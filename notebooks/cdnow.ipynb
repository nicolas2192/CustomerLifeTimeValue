{
 "cells": [
  {
   "cell_type": "markdown",
   "id": "47d0f4b6-57b7-4e85-aeb4-bfa11c60ba87",
   "metadata": {
    "tags": []
   },
   "source": [
    "# Full Customer Lifetime Value & RFM Analysis using Machine Learning\n",
    "Business: CDNOW\n",
    "---"
   ]
  },
  {
   "cell_type": "markdown",
   "id": "a6722624-e738-4498-9082-15599d415912",
   "metadata": {},
   "source": [
    "Dataset: https://www.brucehardie.com/datasets/\n",
    "\n",
    "Questions to answer:\n",
    "- 1. Which customers have the highest spend probability in the next 90 days.\n",
    "- 2. Which customers have recently purchased but are unlikely to buy.\n",
    "- 3. Which customers were predicted to purchase but didnt. "
   ]
  },
  {
   "cell_type": "code",
   "execution_count": 25,
   "id": "26e6d8e9-2b83-42e3-9644-23e35ba4e9f8",
   "metadata": {},
   "outputs": [],
   "source": [
    "# Imports\n",
    "\n",
    "import pandas as pd\n",
    "import numpy as np\n",
    "import matplotlib.pyplot as plt\n",
    "import time\n",
    "\n",
    "from sklearn.metrics import accuracy_score, r2_score\n",
    "from sklearn.ensemble import RandomForestRegressor, RandomForestClassifier\n",
    "from sklearn.model_selection import GridSearchCV, train_test_split"
   ]
  },
  {
   "cell_type": "markdown",
   "id": "376168a7-e289-4025-9cf8-db79c8ee3c4b",
   "metadata": {},
   "source": [
    "## Data Wrangling and Analysis"
   ]
  },
  {
   "cell_type": "code",
   "execution_count": 4,
   "id": "191a5485-63fc-4127-aa35-853b0a9de3ba",
   "metadata": {},
   "outputs": [],
   "source": [
    "# Reading txt file, notice sep implementation.\n",
    "df = pd.read_csv('../trash/CDNOW_master.txt', names=['customer_id', 'date', 'quantity', 'price'], sep='\\s+' )"
   ]
  },
  {
   "cell_type": "code",
   "execution_count": 5,
   "id": "a94c0d56-3049-4b96-a7ae-cba48abe07b5",
   "metadata": {},
   "outputs": [
    {
     "data": {
      "text/html": [
       "<div>\n",
       "<style scoped>\n",
       "    .dataframe tbody tr th:only-of-type {\n",
       "        vertical-align: middle;\n",
       "    }\n",
       "\n",
       "    .dataframe tbody tr th {\n",
       "        vertical-align: top;\n",
       "    }\n",
       "\n",
       "    .dataframe thead th {\n",
       "        text-align: right;\n",
       "    }\n",
       "</style>\n",
       "<table border=\"1\" class=\"dataframe\">\n",
       "  <thead>\n",
       "    <tr style=\"text-align: right;\">\n",
       "      <th></th>\n",
       "      <th>customer_id</th>\n",
       "      <th>date</th>\n",
       "      <th>quantity</th>\n",
       "      <th>price</th>\n",
       "    </tr>\n",
       "  </thead>\n",
       "  <tbody>\n",
       "    <tr>\n",
       "      <th>0</th>\n",
       "      <td>1</td>\n",
       "      <td>19970101</td>\n",
       "      <td>1</td>\n",
       "      <td>11.77</td>\n",
       "    </tr>\n",
       "    <tr>\n",
       "      <th>1</th>\n",
       "      <td>2</td>\n",
       "      <td>19970112</td>\n",
       "      <td>1</td>\n",
       "      <td>12.00</td>\n",
       "    </tr>\n",
       "    <tr>\n",
       "      <th>2</th>\n",
       "      <td>2</td>\n",
       "      <td>19970112</td>\n",
       "      <td>5</td>\n",
       "      <td>77.00</td>\n",
       "    </tr>\n",
       "    <tr>\n",
       "      <th>3</th>\n",
       "      <td>3</td>\n",
       "      <td>19970102</td>\n",
       "      <td>2</td>\n",
       "      <td>20.76</td>\n",
       "    </tr>\n",
       "    <tr>\n",
       "      <th>4</th>\n",
       "      <td>3</td>\n",
       "      <td>19970330</td>\n",
       "      <td>2</td>\n",
       "      <td>20.76</td>\n",
       "    </tr>\n",
       "    <tr>\n",
       "      <th>...</th>\n",
       "      <td>...</td>\n",
       "      <td>...</td>\n",
       "      <td>...</td>\n",
       "      <td>...</td>\n",
       "    </tr>\n",
       "    <tr>\n",
       "      <th>69654</th>\n",
       "      <td>23568</td>\n",
       "      <td>19970405</td>\n",
       "      <td>4</td>\n",
       "      <td>83.74</td>\n",
       "    </tr>\n",
       "    <tr>\n",
       "      <th>69655</th>\n",
       "      <td>23568</td>\n",
       "      <td>19970422</td>\n",
       "      <td>1</td>\n",
       "      <td>14.99</td>\n",
       "    </tr>\n",
       "    <tr>\n",
       "      <th>69656</th>\n",
       "      <td>23569</td>\n",
       "      <td>19970325</td>\n",
       "      <td>2</td>\n",
       "      <td>25.74</td>\n",
       "    </tr>\n",
       "    <tr>\n",
       "      <th>69657</th>\n",
       "      <td>23570</td>\n",
       "      <td>19970325</td>\n",
       "      <td>3</td>\n",
       "      <td>51.12</td>\n",
       "    </tr>\n",
       "    <tr>\n",
       "      <th>69658</th>\n",
       "      <td>23570</td>\n",
       "      <td>19970326</td>\n",
       "      <td>2</td>\n",
       "      <td>42.96</td>\n",
       "    </tr>\n",
       "  </tbody>\n",
       "</table>\n",
       "<p>69659 rows × 4 columns</p>\n",
       "</div>"
      ],
      "text/plain": [
       "       customer_id      date  quantity  price\n",
       "0                1  19970101         1  11.77\n",
       "1                2  19970112         1  12.00\n",
       "2                2  19970112         5  77.00\n",
       "3                3  19970102         2  20.76\n",
       "4                3  19970330         2  20.76\n",
       "...            ...       ...       ...    ...\n",
       "69654        23568  19970405         4  83.74\n",
       "69655        23568  19970422         1  14.99\n",
       "69656        23569  19970325         2  25.74\n",
       "69657        23570  19970325         3  51.12\n",
       "69658        23570  19970326         2  42.96\n",
       "\n",
       "[69659 rows x 4 columns]"
      ]
     },
     "execution_count": 5,
     "metadata": {},
     "output_type": "execute_result"
    }
   ],
   "source": [
    "df"
   ]
  },
  {
   "cell_type": "code",
   "execution_count": 6,
   "id": "1d8735e5-c5e5-49e1-8d45-c534653f9233",
   "metadata": {},
   "outputs": [],
   "source": [
    "# Turning 19970101 into a date (1997-01-01)\n",
    "df['date'] = pd.to_datetime(df['date'].astype(str))"
   ]
  },
  {
   "cell_type": "markdown",
   "id": "928e5e6f-a833-413a-aa4c-86f77368a843",
   "metadata": {},
   "source": [
    "### Cohort Analysis"
   ]
  },
  {
   "cell_type": "code",
   "execution_count": 7,
   "id": "10884cd8-e7d0-496c-ad9a-ce40413d6cbf",
   "metadata": {},
   "outputs": [
    {
     "data": {
      "text/plain": [
       "<AxesSubplot:xlabel='date'>"
      ]
     },
     "execution_count": 7,
     "metadata": {},
     "output_type": "execute_result"
    },
    {
     "data": {
      "image/png": "[encoded data removed]",
      "text/plain": [
       "<Figure size 640x480 with 1 Axes>"
      ]
     },
     "metadata": {},
     "output_type": "display_data"
    }
   ],
   "source": [
    "# Checking the trend\n",
    "df.set_index('date')[['price']].resample(rule='MS').sum().plot()"
   ]
  },
  {
   "cell_type": "code",
   "execution_count": 8,
   "id": "d1933812-016b-4d2d-a3c7-cf1488b64ed9",
   "metadata": {},
   "outputs": [
    {
     "data": {
      "text/html": [
       "<div>\n",
       "<style scoped>\n",
       "    .dataframe tbody tr th:only-of-type {\n",
       "        vertical-align: middle;\n",
       "    }\n",
       "\n",
       "    .dataframe tbody tr th {\n",
       "        vertical-align: top;\n",
       "    }\n",
       "\n",
       "    .dataframe thead th {\n",
       "        text-align: right;\n",
       "    }\n",
       "</style>\n",
       "<table border=\"1\" class=\"dataframe\">\n",
       "  <thead>\n",
       "    <tr style=\"text-align: right;\">\n",
       "      <th></th>\n",
       "      <th>customer_id</th>\n",
       "      <th>date</th>\n",
       "      <th>quantity</th>\n",
       "      <th>price</th>\n",
       "    </tr>\n",
       "  </thead>\n",
       "  <tbody>\n",
       "    <tr>\n",
       "      <th>0</th>\n",
       "      <td>1</td>\n",
       "      <td>1997-01-01</td>\n",
       "      <td>1</td>\n",
       "      <td>11.77</td>\n",
       "    </tr>\n",
       "    <tr>\n",
       "      <th>1</th>\n",
       "      <td>2</td>\n",
       "      <td>1997-01-12</td>\n",
       "      <td>1</td>\n",
       "      <td>12.00</td>\n",
       "    </tr>\n",
       "    <tr>\n",
       "      <th>2</th>\n",
       "      <td>2</td>\n",
       "      <td>1997-01-12</td>\n",
       "      <td>5</td>\n",
       "      <td>77.00</td>\n",
       "    </tr>\n",
       "    <tr>\n",
       "      <th>3</th>\n",
       "      <td>3</td>\n",
       "      <td>1997-01-02</td>\n",
       "      <td>2</td>\n",
       "      <td>20.76</td>\n",
       "    </tr>\n",
       "    <tr>\n",
       "      <th>4</th>\n",
       "      <td>3</td>\n",
       "      <td>1997-03-30</td>\n",
       "      <td>2</td>\n",
       "      <td>20.76</td>\n",
       "    </tr>\n",
       "  </tbody>\n",
       "</table>\n",
       "</div>"
      ],
      "text/plain": [
       "   customer_id       date  quantity  price\n",
       "0            1 1997-01-01         1  11.77\n",
       "1            2 1997-01-12         1  12.00\n",
       "2            2 1997-01-12         5  77.00\n",
       "3            3 1997-01-02         2  20.76\n",
       "4            3 1997-03-30         2  20.76"
      ]
     },
     "execution_count": 8,
     "metadata": {},
     "output_type": "execute_result"
    }
   ],
   "source": [
    "df.head()"
   ]
  },
  {
   "cell_type": "markdown",
   "id": "53b3c5bd-79b6-4e17-a106-bfabf6c29cb0",
   "metadata": {},
   "source": [
    "### Machine Learning\n",
    "- What will the customer spend in the next 90 days (Regression).\n",
    "- What is the probability of a customer to make a purchase in the next 90 days (Classification)."
   ]
  },
  {
   "cell_type": "markdown",
   "id": "48d70865-a2d0-4221-ac08-5a4b759cc1e9",
   "metadata": {},
   "source": [
    "#### Train Test splitting\n",
    "Splitting the data into train and test dataset. When it comes to time series, training data should be the oldest one while testing is the most recent one."
   ]
  },
  {
   "cell_type": "code",
   "execution_count": 9,
   "id": "43f750fe-bef2-436a-a12a-c73cf801ac12",
   "metadata": {},
   "outputs": [
    {
     "data": {
      "text/plain": [
       "Timestamp('1998-04-01 00:00:00')"
      ]
     },
     "execution_count": 9,
     "metadata": {},
     "output_type": "execute_result"
    }
   ],
   "source": [
    "# test data will be 90 days into the past and train data will be everything else older than 90 days\n",
    "cutoff = df.date.max() - pd.to_timedelta(90, unit='d')\n",
    "cutoff"
   ]
  },
  {
   "cell_type": "code",
   "execution_count": 10,
   "id": "081e6dd7-4d65-4c02-84c3-5efcb5162cea",
   "metadata": {},
   "outputs": [
    {
     "name": "stdout",
     "output_type": "stream",
     "text": [
      "Train split %: 0.92 \n",
      "Test split %: 0.08\n"
     ]
    }
   ],
   "source": [
    "x_raw = df[df['date'] < cutoff]\n",
    "y_raw = df[df['date'] >= cutoff]\n",
    "print('Train split %:', round(len(x_raw)/len(df), 2), '\\nTest split %:', round(len(y_raw)/len(df), 2))"
   ]
  },
  {
   "cell_type": "markdown",
   "id": "9d8e6a02-13fb-4c50-9688-9a129b97c6f9",
   "metadata": {},
   "source": [
    "#### Creating target (y) dataset"
   ]
  },
  {
   "cell_type": "code",
   "execution_count": 11,
   "id": "532c141a-e90d-44cf-b07d-8821fe7ba6af",
   "metadata": {},
   "outputs": [
    {
     "data": {
      "text/html": [
       "<div>\n",
       "<style scoped>\n",
       "    .dataframe tbody tr th:only-of-type {\n",
       "        vertical-align: middle;\n",
       "    }\n",
       "\n",
       "    .dataframe tbody tr th {\n",
       "        vertical-align: top;\n",
       "    }\n",
       "\n",
       "    .dataframe thead th {\n",
       "        text-align: right;\n",
       "    }\n",
       "</style>\n",
       "<table border=\"1\" class=\"dataframe\">\n",
       "  <thead>\n",
       "    <tr style=\"text-align: right;\">\n",
       "      <th></th>\n",
       "      <th>true_amnt_spent</th>\n",
       "      <th>is_active</th>\n",
       "    </tr>\n",
       "    <tr>\n",
       "      <th>customer_id</th>\n",
       "      <th></th>\n",
       "      <th></th>\n",
       "    </tr>\n",
       "  </thead>\n",
       "  <tbody>\n",
       "    <tr>\n",
       "      <th>3</th>\n",
       "      <td>16.99</td>\n",
       "      <td>1</td>\n",
       "    </tr>\n",
       "    <tr>\n",
       "      <th>9</th>\n",
       "      <td>41.98</td>\n",
       "      <td>1</td>\n",
       "    </tr>\n",
       "    <tr>\n",
       "      <th>25</th>\n",
       "      <td>73.43</td>\n",
       "      <td>1</td>\n",
       "    </tr>\n",
       "    <tr>\n",
       "      <th>29</th>\n",
       "      <td>48.45</td>\n",
       "      <td>1</td>\n",
       "    </tr>\n",
       "    <tr>\n",
       "      <th>31</th>\n",
       "      <td>117.99</td>\n",
       "      <td>1</td>\n",
       "    </tr>\n",
       "  </tbody>\n",
       "</table>\n",
       "</div>"
      ],
      "text/plain": [
       "             true_amnt_spent  is_active\n",
       "customer_id                            \n",
       "3                      16.99          1\n",
       "9                      41.98          1\n",
       "25                     73.43          1\n",
       "29                     48.45          1\n",
       "31                    117.99          1"
      ]
     },
     "execution_count": 11,
     "metadata": {},
     "output_type": "execute_result"
    }
   ],
   "source": [
    "y = y_raw.groupby('customer_id')[['price']].sum().set_axis(['true_amnt_spent'], axis=1)\n",
    "y['is_active'] = 1\n",
    "y.head()"
   ]
  },
  {
   "cell_type": "markdown",
   "id": "9756cae3-6607-42fc-a149-f1892cb7ea23",
   "metadata": {},
   "source": [
    "#### Feature engineering for Train (X) dataset"
   ]
  },
  {
   "cell_type": "code",
   "execution_count": 12,
   "id": "ca105fc4-2f4f-4575-b5a5-f6af2a65e08e",
   "metadata": {},
   "outputs": [],
   "source": [
    "# Recency. How many days back in time was the most recent purchase."
   ]
  },
  {
   "cell_type": "code",
   "execution_count": 13,
   "id": "4fa89417-7418-4450-8055-93b16c27bde8",
   "metadata": {},
   "outputs": [],
   "source": [
    "def last_buy_days(x, compare_to):\n",
    "    val = compare_to - x.max()[1]\n",
    "    return val.days"
   ]
  },
  {
   "cell_type": "code",
   "execution_count": 14,
   "id": "3e090ce3-9fbb-4ce5-9101-6e94388ceb18",
   "metadata": {},
   "outputs": [],
   "source": [
    "oldest_date = x_raw.date.max()"
   ]
  },
  {
   "cell_type": "code",
   "execution_count": 15,
   "id": "c6a3f4e2-f9f0-4c53-bafc-72fac34a95e0",
   "metadata": {},
   "outputs": [
    {
     "data": {
      "text/html": [
       "<div>\n",
       "<style scoped>\n",
       "    .dataframe tbody tr th:only-of-type {\n",
       "        vertical-align: middle;\n",
       "    }\n",
       "\n",
       "    .dataframe tbody tr th {\n",
       "        vertical-align: top;\n",
       "    }\n",
       "\n",
       "    .dataframe thead th {\n",
       "        text-align: right;\n",
       "    }\n",
       "</style>\n",
       "<table border=\"1\" class=\"dataframe\">\n",
       "  <thead>\n",
       "    <tr style=\"text-align: right;\">\n",
       "      <th></th>\n",
       "      <th>recency</th>\n",
       "    </tr>\n",
       "    <tr>\n",
       "      <th>customer_id</th>\n",
       "      <th></th>\n",
       "    </tr>\n",
       "  </thead>\n",
       "  <tbody>\n",
       "    <tr>\n",
       "      <th>1</th>\n",
       "      <td>454</td>\n",
       "    </tr>\n",
       "    <tr>\n",
       "      <th>2</th>\n",
       "      <td>443</td>\n",
       "    </tr>\n",
       "    <tr>\n",
       "      <th>3</th>\n",
       "      <td>126</td>\n",
       "    </tr>\n",
       "    <tr>\n",
       "      <th>4</th>\n",
       "      <td>109</td>\n",
       "    </tr>\n",
       "    <tr>\n",
       "      <th>5</th>\n",
       "      <td>87</td>\n",
       "    </tr>\n",
       "  </tbody>\n",
       "</table>\n",
       "</div>"
      ],
      "text/plain": [
       "             recency\n",
       "customer_id         \n",
       "1                454\n",
       "2                443\n",
       "3                126\n",
       "4                109\n",
       "5                 87"
      ]
     },
     "execution_count": 15,
     "metadata": {},
     "output_type": "execute_result"
    }
   ],
   "source": [
    "grp = x_raw.groupby('customer_id')[['customer_id', 'date']].apply(lambda x: last_buy_days(x, oldest_date))\n",
    "recency = grp.to_frame().set_axis(['recency'], axis=1)\n",
    "recency.head()"
   ]
  },
  {
   "cell_type": "code",
   "execution_count": 16,
   "id": "80643fe6-02a2-4458-b327-5e7b0a3e3e68",
   "metadata": {},
   "outputs": [
    {
     "data": {
      "text/html": [
       "<div>\n",
       "<style scoped>\n",
       "    .dataframe tbody tr th:only-of-type {\n",
       "        vertical-align: middle;\n",
       "    }\n",
       "\n",
       "    .dataframe tbody tr th {\n",
       "        vertical-align: top;\n",
       "    }\n",
       "\n",
       "    .dataframe thead th {\n",
       "        text-align: right;\n",
       "    }\n",
       "</style>\n",
       "<table border=\"1\" class=\"dataframe\">\n",
       "  <thead>\n",
       "    <tr style=\"text-align: right;\">\n",
       "      <th></th>\n",
       "      <th>frequency</th>\n",
       "    </tr>\n",
       "    <tr>\n",
       "      <th>customer_id</th>\n",
       "      <th></th>\n",
       "    </tr>\n",
       "  </thead>\n",
       "  <tbody>\n",
       "    <tr>\n",
       "      <th>1</th>\n",
       "      <td>1</td>\n",
       "    </tr>\n",
       "    <tr>\n",
       "      <th>2</th>\n",
       "      <td>2</td>\n",
       "    </tr>\n",
       "    <tr>\n",
       "      <th>3</th>\n",
       "      <td>5</td>\n",
       "    </tr>\n",
       "    <tr>\n",
       "      <th>4</th>\n",
       "      <td>4</td>\n",
       "    </tr>\n",
       "    <tr>\n",
       "      <th>5</th>\n",
       "      <td>11</td>\n",
       "    </tr>\n",
       "  </tbody>\n",
       "</table>\n",
       "</div>"
      ],
      "text/plain": [
       "             frequency\n",
       "customer_id           \n",
       "1                    1\n",
       "2                    2\n",
       "3                    5\n",
       "4                    4\n",
       "5                   11"
      ]
     },
     "execution_count": 16,
     "metadata": {},
     "output_type": "execute_result"
    }
   ],
   "source": [
    "# Frequency. How many time each customer made a purchase.\n",
    "\n",
    "freq = x_raw.groupby('customer_id')['date'].count().to_frame().set_axis(['frequency'], axis=1)\n",
    "freq.head()"
   ]
  },
  {
   "cell_type": "code",
   "execution_count": 17,
   "id": "8932bf6e-c50f-4d57-bce9-d6a231fb93f7",
   "metadata": {},
   "outputs": [
    {
     "data": {
      "text/html": [
       "<div>\n",
       "<style scoped>\n",
       "    .dataframe tbody tr th:only-of-type {\n",
       "        vertical-align: middle;\n",
       "    }\n",
       "\n",
       "    .dataframe tbody tr th {\n",
       "        vertical-align: top;\n",
       "    }\n",
       "\n",
       "    .dataframe thead th {\n",
       "        text-align: right;\n",
       "    }\n",
       "</style>\n",
       "<table border=\"1\" class=\"dataframe\">\n",
       "  <thead>\n",
       "    <tr style=\"text-align: right;\">\n",
       "      <th></th>\n",
       "      <th>price_sum</th>\n",
       "      <th>price_mean</th>\n",
       "    </tr>\n",
       "    <tr>\n",
       "      <th>customer_id</th>\n",
       "      <th></th>\n",
       "      <th></th>\n",
       "    </tr>\n",
       "  </thead>\n",
       "  <tbody>\n",
       "    <tr>\n",
       "      <th>1</th>\n",
       "      <td>11.77</td>\n",
       "      <td>11.770000</td>\n",
       "    </tr>\n",
       "    <tr>\n",
       "      <th>2</th>\n",
       "      <td>89.00</td>\n",
       "      <td>44.500000</td>\n",
       "    </tr>\n",
       "    <tr>\n",
       "      <th>3</th>\n",
       "      <td>139.47</td>\n",
       "      <td>27.894000</td>\n",
       "    </tr>\n",
       "    <tr>\n",
       "      <th>4</th>\n",
       "      <td>100.50</td>\n",
       "      <td>25.125000</td>\n",
       "    </tr>\n",
       "    <tr>\n",
       "      <th>5</th>\n",
       "      <td>385.61</td>\n",
       "      <td>35.055455</td>\n",
       "    </tr>\n",
       "  </tbody>\n",
       "</table>\n",
       "</div>"
      ],
      "text/plain": [
       "             price_sum  price_mean\n",
       "customer_id                       \n",
       "1                11.77   11.770000\n",
       "2                89.00   44.500000\n",
       "3               139.47   27.894000\n",
       "4               100.50   25.125000\n",
       "5               385.61   35.055455"
      ]
     },
     "execution_count": 17,
     "metadata": {},
     "output_type": "execute_result"
    }
   ],
   "source": [
    "# Average and Sum spent. How much money each user has spent and the total spent.\n",
    "\n",
    "p = x_raw.groupby('customer_id')[['price']].agg(['sum', 'mean']).set_axis(['price_sum', 'price_mean'], axis=1)\n",
    "p.head()"
   ]
  },
  {
   "cell_type": "code",
   "execution_count": 18,
   "id": "2e5a3161-275a-442b-a705-dee256af0cc9",
   "metadata": {},
   "outputs": [
    {
     "data": {
      "text/html": [
       "<div>\n",
       "<style scoped>\n",
       "    .dataframe tbody tr th:only-of-type {\n",
       "        vertical-align: middle;\n",
       "    }\n",
       "\n",
       "    .dataframe tbody tr th {\n",
       "        vertical-align: top;\n",
       "    }\n",
       "\n",
       "    .dataframe thead th {\n",
       "        text-align: right;\n",
       "    }\n",
       "</style>\n",
       "<table border=\"1\" class=\"dataframe\">\n",
       "  <thead>\n",
       "    <tr style=\"text-align: right;\">\n",
       "      <th></th>\n",
       "      <th>first_order</th>\n",
       "    </tr>\n",
       "    <tr>\n",
       "      <th>customer_id</th>\n",
       "      <th></th>\n",
       "    </tr>\n",
       "  </thead>\n",
       "  <tbody>\n",
       "    <tr>\n",
       "      <th>1</th>\n",
       "      <td>1997-01-01</td>\n",
       "    </tr>\n",
       "    <tr>\n",
       "      <th>2</th>\n",
       "      <td>1997-01-12</td>\n",
       "    </tr>\n",
       "    <tr>\n",
       "      <th>3</th>\n",
       "      <td>1997-01-02</td>\n",
       "    </tr>\n",
       "    <tr>\n",
       "      <th>4</th>\n",
       "      <td>1997-01-01</td>\n",
       "    </tr>\n",
       "    <tr>\n",
       "      <th>5</th>\n",
       "      <td>1997-01-01</td>\n",
       "    </tr>\n",
       "  </tbody>\n",
       "</table>\n",
       "</div>"
      ],
      "text/plain": [
       "            first_order\n",
       "customer_id            \n",
       "1            1997-01-01\n",
       "2            1997-01-12\n",
       "3            1997-01-02\n",
       "4            1997-01-01\n",
       "5            1997-01-01"
      ]
     },
     "execution_count": 18,
     "metadata": {},
     "output_type": "execute_result"
    }
   ],
   "source": [
    "# First order. When was the first order.\n",
    "\n",
    "first_order = x_raw.groupby('customer_id')[['date']].min().set_axis(['first_order'], axis=1)\n",
    "first_order.head()"
   ]
  },
  {
   "cell_type": "code",
   "execution_count": 19,
   "id": "4e759f69-4d0c-47a2-9a6b-66e9804525a8",
   "metadata": {},
   "outputs": [],
   "source": [
    "# Purchase frequency. How often each customer performs a transaction.\n",
    "\n",
    "pass"
   ]
  },
  {
   "cell_type": "code",
   "execution_count": 20,
   "id": "f0b21223-fe5c-423d-94b4-9a1c6c2aadbd",
   "metadata": {},
   "outputs": [
    {
     "data": {
      "text/html": [
       "<div>\n",
       "<style scoped>\n",
       "    .dataframe tbody tr th:only-of-type {\n",
       "        vertical-align: middle;\n",
       "    }\n",
       "\n",
       "    .dataframe tbody tr th {\n",
       "        vertical-align: top;\n",
       "    }\n",
       "\n",
       "    .dataframe thead th {\n",
       "        text-align: right;\n",
       "    }\n",
       "</style>\n",
       "<table border=\"1\" class=\"dataframe\">\n",
       "  <thead>\n",
       "    <tr style=\"text-align: right;\">\n",
       "      <th></th>\n",
       "      <th>recency</th>\n",
       "      <th>frequency</th>\n",
       "      <th>price_sum</th>\n",
       "      <th>price_mean</th>\n",
       "    </tr>\n",
       "    <tr>\n",
       "      <th>customer_id</th>\n",
       "      <th></th>\n",
       "      <th></th>\n",
       "      <th></th>\n",
       "      <th></th>\n",
       "    </tr>\n",
       "  </thead>\n",
       "  <tbody>\n",
       "    <tr>\n",
       "      <th>1</th>\n",
       "      <td>454</td>\n",
       "      <td>1</td>\n",
       "      <td>11.77</td>\n",
       "      <td>11.770000</td>\n",
       "    </tr>\n",
       "    <tr>\n",
       "      <th>2</th>\n",
       "      <td>443</td>\n",
       "      <td>2</td>\n",
       "      <td>89.00</td>\n",
       "      <td>44.500000</td>\n",
       "    </tr>\n",
       "    <tr>\n",
       "      <th>3</th>\n",
       "      <td>126</td>\n",
       "      <td>5</td>\n",
       "      <td>139.47</td>\n",
       "      <td>27.894000</td>\n",
       "    </tr>\n",
       "    <tr>\n",
       "      <th>4</th>\n",
       "      <td>109</td>\n",
       "      <td>4</td>\n",
       "      <td>100.50</td>\n",
       "      <td>25.125000</td>\n",
       "    </tr>\n",
       "    <tr>\n",
       "      <th>5</th>\n",
       "      <td>87</td>\n",
       "      <td>11</td>\n",
       "      <td>385.61</td>\n",
       "      <td>35.055455</td>\n",
       "    </tr>\n",
       "  </tbody>\n",
       "</table>\n",
       "</div>"
      ],
      "text/plain": [
       "             recency  frequency  price_sum  price_mean\n",
       "customer_id                                           \n",
       "1                454          1      11.77   11.770000\n",
       "2                443          2      89.00   44.500000\n",
       "3                126          5     139.47   27.894000\n",
       "4                109          4     100.50   25.125000\n",
       "5                 87         11     385.61   35.055455"
      ]
     },
     "execution_count": 20,
     "metadata": {},
     "output_type": "execute_result"
    }
   ],
   "source": [
    "# Merging X datasets\n",
    "\n",
    "x = pd.concat([recency, freq, p], axis=1)\n",
    "x.head()"
   ]
  },
  {
   "cell_type": "markdown",
   "id": "00f54c3e-0260-4d09-9dbb-7e08dfd9d186",
   "metadata": {
    "tags": []
   },
   "source": [
    "#### Train test split. Defining X and y datasets."
   ]
  },
  {
   "cell_type": "code",
   "execution_count": 40,
   "id": "83d91236-318c-48ac-aba3-063e43e07d36",
   "metadata": {},
   "outputs": [
    {
     "data": {
      "text/html": [
       "<div>\n",
       "<style scoped>\n",
       "    .dataframe tbody tr th:only-of-type {\n",
       "        vertical-align: middle;\n",
       "    }\n",
       "\n",
       "    .dataframe tbody tr th {\n",
       "        vertical-align: top;\n",
       "    }\n",
       "\n",
       "    .dataframe thead th {\n",
       "        text-align: right;\n",
       "    }\n",
       "</style>\n",
       "<table border=\"1\" class=\"dataframe\">\n",
       "  <thead>\n",
       "    <tr style=\"text-align: right;\">\n",
       "      <th></th>\n",
       "      <th>recency</th>\n",
       "      <th>frequency</th>\n",
       "      <th>price_sum</th>\n",
       "      <th>price_mean</th>\n",
       "      <th>true_amnt_spent</th>\n",
       "      <th>is_active</th>\n",
       "    </tr>\n",
       "    <tr>\n",
       "      <th>customer_id</th>\n",
       "      <th></th>\n",
       "      <th></th>\n",
       "      <th></th>\n",
       "      <th></th>\n",
       "      <th></th>\n",
       "      <th></th>\n",
       "    </tr>\n",
       "  </thead>\n",
       "  <tbody>\n",
       "    <tr>\n",
       "      <th>1</th>\n",
       "      <td>454</td>\n",
       "      <td>1</td>\n",
       "      <td>11.77</td>\n",
       "      <td>11.770000</td>\n",
       "      <td>0.00</td>\n",
       "      <td>0.0</td>\n",
       "    </tr>\n",
       "    <tr>\n",
       "      <th>2</th>\n",
       "      <td>443</td>\n",
       "      <td>2</td>\n",
       "      <td>89.00</td>\n",
       "      <td>44.500000</td>\n",
       "      <td>0.00</td>\n",
       "      <td>0.0</td>\n",
       "    </tr>\n",
       "    <tr>\n",
       "      <th>3</th>\n",
       "      <td>126</td>\n",
       "      <td>5</td>\n",
       "      <td>139.47</td>\n",
       "      <td>27.894000</td>\n",
       "      <td>16.99</td>\n",
       "      <td>1.0</td>\n",
       "    </tr>\n",
       "    <tr>\n",
       "      <th>4</th>\n",
       "      <td>109</td>\n",
       "      <td>4</td>\n",
       "      <td>100.50</td>\n",
       "      <td>25.125000</td>\n",
       "      <td>0.00</td>\n",
       "      <td>0.0</td>\n",
       "    </tr>\n",
       "    <tr>\n",
       "      <th>5</th>\n",
       "      <td>87</td>\n",
       "      <td>11</td>\n",
       "      <td>385.61</td>\n",
       "      <td>35.055455</td>\n",
       "      <td>0.00</td>\n",
       "      <td>0.0</td>\n",
       "    </tr>\n",
       "  </tbody>\n",
       "</table>\n",
       "</div>"
      ],
      "text/plain": [
       "             recency  frequency  price_sum  price_mean  true_amnt_spent  \\\n",
       "customer_id                                                               \n",
       "1                454          1      11.77   11.770000             0.00   \n",
       "2                443          2      89.00   44.500000             0.00   \n",
       "3                126          5     139.47   27.894000            16.99   \n",
       "4                109          4     100.50   25.125000             0.00   \n",
       "5                 87         11     385.61   35.055455             0.00   \n",
       "\n",
       "             is_active  \n",
       "customer_id             \n",
       "1                  0.0  \n",
       "2                  0.0  \n",
       "3                  1.0  \n",
       "4                  0.0  \n",
       "5                  0.0  "
      ]
     },
     "execution_count": 40,
     "metadata": {},
     "output_type": "execute_result"
    }
   ],
   "source": [
    "xy = x.join(y, how='left').fillna(0)\n",
    "xy.head()"
   ]
  },
  {
   "cell_type": "code",
   "execution_count": 41,
   "id": "1b1a48b5-c0be-4d6e-bee5-35aa3e620730",
   "metadata": {},
   "outputs": [
    {
     "data": {
      "text/html": [
       "<div>\n",
       "<style scoped>\n",
       "    .dataframe tbody tr th:only-of-type {\n",
       "        vertical-align: middle;\n",
       "    }\n",
       "\n",
       "    .dataframe tbody tr th {\n",
       "        vertical-align: top;\n",
       "    }\n",
       "\n",
       "    .dataframe thead th {\n",
       "        text-align: right;\n",
       "    }\n",
       "</style>\n",
       "<table border=\"1\" class=\"dataframe\">\n",
       "  <thead>\n",
       "    <tr style=\"text-align: right;\">\n",
       "      <th></th>\n",
       "      <th>recency</th>\n",
       "      <th>frequency</th>\n",
       "      <th>price_sum</th>\n",
       "      <th>price_mean</th>\n",
       "    </tr>\n",
       "    <tr>\n",
       "      <th>customer_id</th>\n",
       "      <th></th>\n",
       "      <th></th>\n",
       "      <th></th>\n",
       "      <th></th>\n",
       "    </tr>\n",
       "  </thead>\n",
       "  <tbody>\n",
       "    <tr>\n",
       "      <th>1</th>\n",
       "      <td>454</td>\n",
       "      <td>1</td>\n",
       "      <td>11.77</td>\n",
       "      <td>11.770000</td>\n",
       "    </tr>\n",
       "    <tr>\n",
       "      <th>2</th>\n",
       "      <td>443</td>\n",
       "      <td>2</td>\n",
       "      <td>89.00</td>\n",
       "      <td>44.500000</td>\n",
       "    </tr>\n",
       "    <tr>\n",
       "      <th>3</th>\n",
       "      <td>126</td>\n",
       "      <td>5</td>\n",
       "      <td>139.47</td>\n",
       "      <td>27.894000</td>\n",
       "    </tr>\n",
       "    <tr>\n",
       "      <th>4</th>\n",
       "      <td>109</td>\n",
       "      <td>4</td>\n",
       "      <td>100.50</td>\n",
       "      <td>25.125000</td>\n",
       "    </tr>\n",
       "    <tr>\n",
       "      <th>5</th>\n",
       "      <td>87</td>\n",
       "      <td>11</td>\n",
       "      <td>385.61</td>\n",
       "      <td>35.055455</td>\n",
       "    </tr>\n",
       "  </tbody>\n",
       "</table>\n",
       "</div>"
      ],
      "text/plain": [
       "             recency  frequency  price_sum  price_mean\n",
       "customer_id                                           \n",
       "1                454          1      11.77   11.770000\n",
       "2                443          2      89.00   44.500000\n",
       "3                126          5     139.47   27.894000\n",
       "4                109          4     100.50   25.125000\n",
       "5                 87         11     385.61   35.055455"
      ]
     },
     "execution_count": 41,
     "metadata": {},
     "output_type": "execute_result"
    }
   ],
   "source": [
    "x = xy[['recency', 'frequency', 'price_sum', 'price_mean']]\n",
    "x.head()"
   ]
  },
  {
   "cell_type": "code",
   "execution_count": 64,
   "id": "a6786978-a0a7-4151-a3bc-4ec4540a107b",
   "metadata": {},
   "outputs": [
    {
     "data": {
      "text/plain": [
       "customer_id\n",
       "1     0.00\n",
       "2     0.00\n",
       "3    16.99\n",
       "4     0.00\n",
       "5     0.00\n",
       "Name: true_amnt_spent, dtype: float64"
      ]
     },
     "execution_count": 64,
     "metadata": {},
     "output_type": "execute_result"
    }
   ],
   "source": [
    "y_reg = xy['true_amnt_spent']\n",
    "y_cls = xy['is_active']\n",
    "y_reg.head()"
   ]
  },
  {
   "cell_type": "code",
   "execution_count": 96,
   "id": "bbbe4151",
   "metadata": {},
   "outputs": [],
   "source": [
    "# Train Test Split\n",
    "x_train_reg, x_test_reg, y_train_reg, y_test_reg = train_test_split(x, y_reg, test_size=0.2, random_state=42)\n",
    "x_train_cls, x_test_cls, y_train_cls, y_test_cls = train_test_split(x, y_cls, test_size=0.2, random_state=42)"
   ]
  },
  {
   "cell_type": "markdown",
   "id": "cc2ce6a8-eb14-4374-9fdf-4aab560dd963",
   "metadata": {},
   "source": [
    "### Fitting and Testing the Machine Learning model"
   ]
  },
  {
   "cell_type": "markdown",
   "id": "5dcc4568",
   "metadata": {},
   "source": [
    "#### Scikit-Learn Random Forest Classifier"
   ]
  },
  {
   "cell_type": "markdown",
   "id": "2178472d",
   "metadata": {},
   "source": [
    "**Fitting Train data**"
   ]
  },
  {
   "cell_type": "code",
   "execution_count": 147,
   "id": "33d1a96d",
   "metadata": {},
   "outputs": [],
   "source": [
    "model = RandomForestClassifier(random_state=42)\n",
    "\n",
    "model.fit(x_train_cls, y_train_cls)\n",
    "y_pred = pd.DataFrame(model.predict(x_train_cls), columns=['y_pred'])"
   ]
  },
  {
   "cell_type": "code",
   "execution_count": 148,
   "id": "de599121",
   "metadata": {},
   "outputs": [],
   "source": [
    "y_true = pd.DataFrame(y_train_cls.values, columns=['y_true'])"
   ]
  },
  {
   "cell_type": "code",
   "execution_count": 149,
   "id": "503ba676",
   "metadata": {},
   "outputs": [
    {
     "data": {
      "text/plain": [
       "0.9929465422146797"
      ]
     },
     "execution_count": 149,
     "metadata": {},
     "output_type": "execute_result"
    }
   ],
   "source": [
    "accuracy_score(y_true['y_true'], y_pred['y_pred'])"
   ]
  },
  {
   "cell_type": "markdown",
   "id": "d82976ec",
   "metadata": {},
   "source": [
    "Fitting Test data"
   ]
  },
  {
   "cell_type": "code",
   "execution_count": 150,
   "id": "5073c914",
   "metadata": {},
   "outputs": [],
   "source": [
    "model = RandomForestClassifier(random_state=42)\n",
    "\n",
    "model.fit(x_train_cls, y_train_cls)\n",
    "y_pred = pd.DataFrame(model.predict(x_test_cls), columns=['y_pred'])"
   ]
  },
  {
   "cell_type": "code",
   "execution_count": 151,
   "id": "3882d61c",
   "metadata": {},
   "outputs": [],
   "source": [
    "y_true = pd.DataFrame(y_test_cls.values, columns=['y_true'])"
   ]
  },
  {
   "cell_type": "code",
   "execution_count": 152,
   "id": "a5970fcb",
   "metadata": {},
   "outputs": [
    {
     "data": {
      "text/plain": [
       "0.8640220619431481"
      ]
     },
     "execution_count": 152,
     "metadata": {},
     "output_type": "execute_result"
    }
   ],
   "source": [
    "accuracy_score(y_true['y_true'], y_pred['y_pred'])"
   ]
  },
  {
   "cell_type": "markdown",
   "id": "3fa7432c",
   "metadata": {},
   "source": [
    "#### Scikit-Learn Random Forest Regressor"
   ]
  },
  {
   "cell_type": "markdown",
   "id": "573a14dc",
   "metadata": {},
   "source": [
    "Fitting Train data"
   ]
  },
  {
   "cell_type": "code",
   "execution_count": 165,
   "id": "3a6be47c",
   "metadata": {},
   "outputs": [
    {
     "data": {
      "text/plain": [
       "0.9100212816107602"
      ]
     },
     "execution_count": 165,
     "metadata": {},
     "output_type": "execute_result"
    }
   ],
   "source": [
    "model = RandomForestRegressor(random_state=42)\n",
    "\n",
    "model.fit(x_train_reg, y_train_reg)\n",
    "y_pred = pd.DataFrame(model.predict(x_train_reg), columns=['y_pred'])\n",
    "\n",
    "y_true = pd.DataFrame(y_train_reg.values, columns=['y_true'])\n",
    "\n",
    "r2_score(y_true['y_true'], y_pred['y_pred'])"
   ]
  },
  {
   "cell_type": "markdown",
   "id": "f8ccc406",
   "metadata": {},
   "source": [
    "Fitting Test data"
   ]
  },
  {
   "cell_type": "code",
   "execution_count": 166,
   "id": "9c4d0c5a",
   "metadata": {},
   "outputs": [
    {
     "data": {
      "text/plain": [
       "0.3817767458951121"
      ]
     },
     "execution_count": 166,
     "metadata": {},
     "output_type": "execute_result"
    }
   ],
   "source": [
    "model = RandomForestRegressor(random_state=42)\n",
    "\n",
    "model.fit(x_train_reg, y_train_reg)\n",
    "y_pred = pd.DataFrame(model.predict(x_test_reg), columns=['y_pred'])\n",
    "\n",
    "y_true = pd.DataFrame(y_test_reg.values, columns=['y_true'])\n",
    "\n",
    "r2_score(y_true['y_true'], y_pred['y_pred'])"
   ]
  },
  {
   "cell_type": "code",
   "execution_count": null,
   "id": "c6884bbc",
   "metadata": {},
   "outputs": [],
   "source": [
    "model = GridSearchCV(estimator=model_reg, \n",
    "                     param_grid=dict(learning_rate = [0.01, 0.1, 0.3, 0.5]), \n",
    "                     scoring='neg_mean_absolute_error',\n",
    "                     refit=True, \n",
    "                     cv=5)"
   ]
  },
  {
   "cell_type": "code",
   "execution_count": null,
   "id": "2548c118-7430-48fb-b3a1-633720df2c0d",
   "metadata": {},
   "outputs": [],
   "source": []
  },
  {
   "cell_type": "code",
   "execution_count": null,
   "id": "983a2ac7-3f8e-4d19-a314-902ac607e4bd",
   "metadata": {},
   "outputs": [],
   "source": []
  },
  {
   "cell_type": "code",
   "execution_count": null,
   "id": "a15cecac-c269-48f3-90fe-daec58751e2e",
   "metadata": {},
   "outputs": [],
   "source": []
  },
  {
   "cell_type": "code",
   "execution_count": null,
   "id": "b32618ed-a3cf-4860-9c84-7ff31ea8e0d8",
   "metadata": {},
   "outputs": [],
   "source": []
  },
  {
   "cell_type": "code",
   "execution_count": null,
   "id": "ba6860ec-f2b4-4d91-86eb-9ce22f3fb626",
   "metadata": {},
   "outputs": [],
   "source": []
  }
 ],
 "metadata": {
  "kernelspec": {
   "display_name": "Python [conda env:snake]",
   "language": "python",
   "name": "conda-env-snake-py"
  },
  "language_info": {
   "codemirror_mode": {
    "name": "ipython",
    "version": 3
   },
   "file_extension": ".py",
   "mimetype": "text/x-python",
   "name": "python",
   "nbconvert_exporter": "python",
   "pygments_lexer": "ipython3",
   "version": "3.9.13"
  }
 },
 "nbformat": 4,
 "nbformat_minor": 5
}
