{
 "cells": [
  {
   "cell_type": "markdown",
   "id": "7e216569-35cc-403a-9cd9-5702624f6e50",
   "metadata": {},
   "source": [
    "# Customer Analysis\n",
    "Cohort, Retention, Lifetime Value & RFM Analysis using Machine Learning\n",
    "---\n",
    "\n",
    "**Analysis:**\n",
    "\n",
    "Split the data in differents cohorts depending on user's creation date. Identify their retention using a Retention chart and analysis their behaviour using a RFM analysis and Machine Learning. \n",
    "\n",
    "The machine learning model attempts to predict what users should have bought but didnt. It does not forecast what they will be doing next but what they should have done in the last month giving their past performance. \n",
    "\n",
    "**Useful links:**\n",
    "- [Step-by-step video guide. Youtube](https://www.youtube.com/watch?v=s-32u6XdY7c)\n",
    "- [What is RFM analysis. Youtube](https://www.youtube.com/watch?v=guj2gVEEx4s)\n",
    "- [Lifetime Value Analysis. Medium](https://medium.com/@ugursavci/customer-lifetime-value-prediction-in-python-89e4a50df12e)\n",
    "- [Improve Random Forest Hyperparameters. Medium](https://towardsdatascience.com/random-forest-hyperparameters-and-how-to-fine-tune-them-17aee785ee0d#:~:text=The%20most%20important%20hyper%2Dparameters,MSE%20or%20MAE%20for%20regression)\n",
    "\n",
    "**Questions to answer:**\n",
    "- 1. Which customers had a high purchase probability but didnt do anything in the next 30 days. These could be dormant customers that could be revived with the right marketing campaign. Users that should have bought according to our model but didnt.\n",
    "- 2. Which customers have recently purchased but are unlikely to buy again. Users with high Recency our model predicted wont buy. A marketing campaign to target these customers could revive them.\n",
    "- 3. Which customers with high spending had a low probability of purchasing it again. By studing these customers we could see what improvements we should make or if there are new competitors in town."
   ]
  },
  {
   "cell_type": "code",
   "execution_count": 1,
   "id": "26c4e9de-bf48-45fc-a671-61dccb8a1bcf",
   "metadata": {},
   "outputs": [],
   "source": [
    "# Imports and general settings\n",
    "\n",
    "import math\n",
    "import numpy as np\n",
    "import pandas as pd\n",
    "import matplotlib.pyplot as plt\n",
    "import seaborn as sns\n",
    "from sklearn.metrics import accuracy_score, r2_score\n",
    "from sklearn.ensemble import RandomForestRegressor, RandomForestClassifier\n",
    "from sklearn.model_selection import GridSearchCV, train_test_split\n",
    "\n",
    "pd.set_option('display.max_columns', None)"
   ]
  },
  {
   "cell_type": "markdown",
   "id": "3b0bc4f4-6624-471a-aaf8-443c87d961a6",
   "metadata": {},
   "source": [
    "## Data Wrangling and EDA"
   ]
  },
  {
   "cell_type": "code",
   "execution_count": 2,
   "id": "a21c34e2-20a5-48b3-b900-7ec5e08318ab",
   "metadata": {},
   "outputs": [],
   "source": [
    "# Reading csv file\n",
    "df = pd.read_csv('../data/cohort_data.csv')"
   ]
  },
  {
   "cell_type": "code",
   "execution_count": 3,
   "id": "bba1bbcb-b75c-4c70-85df-6ad99072b404",
   "metadata": {},
   "outputs": [
    {
     "data": {
      "text/html": [
       "<div>\n",
       "<style scoped>\n",
       "    .dataframe tbody tr th:only-of-type {\n",
       "        vertical-align: middle;\n",
       "    }\n",
       "\n",
       "    .dataframe tbody tr th {\n",
       "        vertical-align: top;\n",
       "    }\n",
       "\n",
       "    .dataframe thead th {\n",
       "        text-align: right;\n",
       "    }\n",
       "</style>\n",
       "<table border=\"1\" class=\"dataframe\">\n",
       "  <thead>\n",
       "    <tr style=\"text-align: right;\">\n",
       "      <th></th>\n",
       "      <th>txn_id</th>\n",
       "      <th>txn_date</th>\n",
       "      <th>amount_usd</th>\n",
       "      <th>user_id</th>\n",
       "      <th>user_date</th>\n",
       "    </tr>\n",
       "  </thead>\n",
       "  <tbody>\n",
       "    <tr>\n",
       "      <th>0</th>\n",
       "      <td>t3580</td>\n",
       "      <td>2022-09-30 00:00:00</td>\n",
       "      <td>24.50</td>\n",
       "      <td>u1038</td>\n",
       "      <td>2022-09-10 00:00:00</td>\n",
       "    </tr>\n",
       "    <tr>\n",
       "      <th>1</th>\n",
       "      <td>t3581</td>\n",
       "      <td>2022-09-30 00:00:00</td>\n",
       "      <td>272.25</td>\n",
       "      <td>u348</td>\n",
       "      <td>2021-09-15 00:00:00</td>\n",
       "    </tr>\n",
       "    <tr>\n",
       "      <th>2</th>\n",
       "      <td>t3582</td>\n",
       "      <td>2022-09-30 00:00:00</td>\n",
       "      <td>5.44</td>\n",
       "      <td>u1491</td>\n",
       "      <td>2022-09-30 00:00:00</td>\n",
       "    </tr>\n",
       "    <tr>\n",
       "      <th>3</th>\n",
       "      <td>t3583</td>\n",
       "      <td>2022-09-30 00:00:00</td>\n",
       "      <td>54.45</td>\n",
       "      <td>u17</td>\n",
       "      <td>2022-03-08 00:00:00</td>\n",
       "    </tr>\n",
       "    <tr>\n",
       "      <th>4</th>\n",
       "      <td>t3584</td>\n",
       "      <td>2022-09-30 00:00:00</td>\n",
       "      <td>108.90</td>\n",
       "      <td>u465</td>\n",
       "      <td>2022-05-12 00:00:00</td>\n",
       "    </tr>\n",
       "  </tbody>\n",
       "</table>\n",
       "</div>"
      ],
      "text/plain": [
       "  txn_id             txn_date  amount_usd user_id            user_date\n",
       "0  t3580  2022-09-30 00:00:00       24.50   u1038  2022-09-10 00:00:00\n",
       "1  t3581  2022-09-30 00:00:00      272.25    u348  2021-09-15 00:00:00\n",
       "2  t3582  2022-09-30 00:00:00        5.44   u1491  2022-09-30 00:00:00\n",
       "3  t3583  2022-09-30 00:00:00       54.45     u17  2022-03-08 00:00:00\n",
       "4  t3584  2022-09-30 00:00:00      108.90    u465  2022-05-12 00:00:00"
      ]
     },
     "execution_count": 3,
     "metadata": {},
     "output_type": "execute_result"
    }
   ],
   "source": [
    "df.head()"
   ]
  },
  {
   "cell_type": "code",
   "execution_count": 4,
   "id": "03a64ca6-9fb7-4914-b7a5-ae238d951c69",
   "metadata": {},
   "outputs": [
    {
     "data": {
      "text/plain": [
       "(109059, 5)"
      ]
     },
     "execution_count": 4,
     "metadata": {},
     "output_type": "execute_result"
    }
   ],
   "source": [
    "df.shape"
   ]
  },
  {
   "cell_type": "code",
   "execution_count": 5,
   "id": "fc0390b3-5302-4ec8-9f13-2ca9b6669a3c",
   "metadata": {},
   "outputs": [
    {
     "name": "stdout",
     "output_type": "stream",
     "text": [
      "<class 'pandas.core.frame.DataFrame'>\n",
      "RangeIndex: 109059 entries, 0 to 109058\n",
      "Data columns (total 5 columns):\n",
      " #   Column      Non-Null Count   Dtype  \n",
      "---  ------      --------------   -----  \n",
      " 0   txn_id      109059 non-null  object \n",
      " 1   txn_date    109059 non-null  object \n",
      " 2   amount_usd  109059 non-null  float64\n",
      " 3   user_id     109059 non-null  object \n",
      " 4   user_date   109059 non-null  object \n",
      "dtypes: float64(1), object(4)\n",
      "memory usage: 4.2+ MB\n"
     ]
    }
   ],
   "source": [
    "df.info()"
   ]
  },
  {
   "cell_type": "code",
   "execution_count": 6,
   "id": "d4032304-595f-44a4-8719-eeea61d75144",
   "metadata": {},
   "outputs": [],
   "source": [
    "df['txn_date'] = pd.to_datetime(df['txn_date'], format='%Y-%m-%d %H:%M:%S')\n",
    "df['user_date'] = pd.to_datetime(df['user_date'], format='%Y-%m-%d %H:%M:%S')\n",
    "df['txn_date_ym'] = df['txn_date'].apply(lambda x: x.to_period('M'))\n",
    "df['user_date_ym'] = df['user_date'].apply(lambda x: x.to_period('M'))"
   ]
  },
  {
   "cell_type": "code",
   "execution_count": 7,
   "id": "2712171f-23ba-4731-8638-7a6edb85170e",
   "metadata": {},
   "outputs": [
    {
     "data": {
      "text/html": [
       "<div>\n",
       "<style scoped>\n",
       "    .dataframe tbody tr th:only-of-type {\n",
       "        vertical-align: middle;\n",
       "    }\n",
       "\n",
       "    .dataframe tbody tr th {\n",
       "        vertical-align: top;\n",
       "    }\n",
       "\n",
       "    .dataframe thead th {\n",
       "        text-align: right;\n",
       "    }\n",
       "</style>\n",
       "<table border=\"1\" class=\"dataframe\">\n",
       "  <thead>\n",
       "    <tr style=\"text-align: right;\">\n",
       "      <th></th>\n",
       "      <th>txn_id</th>\n",
       "      <th>txn_date</th>\n",
       "      <th>amount_usd</th>\n",
       "      <th>user_id</th>\n",
       "      <th>user_date</th>\n",
       "      <th>txn_date_ym</th>\n",
       "      <th>user_date_ym</th>\n",
       "    </tr>\n",
       "  </thead>\n",
       "  <tbody>\n",
       "    <tr>\n",
       "      <th>0</th>\n",
       "      <td>t3580</td>\n",
       "      <td>2022-09-30</td>\n",
       "      <td>24.50</td>\n",
       "      <td>u1038</td>\n",
       "      <td>2022-09-10</td>\n",
       "      <td>2022-09</td>\n",
       "      <td>2022-09</td>\n",
       "    </tr>\n",
       "    <tr>\n",
       "      <th>1</th>\n",
       "      <td>t3581</td>\n",
       "      <td>2022-09-30</td>\n",
       "      <td>272.25</td>\n",
       "      <td>u348</td>\n",
       "      <td>2021-09-15</td>\n",
       "      <td>2022-09</td>\n",
       "      <td>2021-09</td>\n",
       "    </tr>\n",
       "    <tr>\n",
       "      <th>2</th>\n",
       "      <td>t3582</td>\n",
       "      <td>2022-09-30</td>\n",
       "      <td>5.44</td>\n",
       "      <td>u1491</td>\n",
       "      <td>2022-09-30</td>\n",
       "      <td>2022-09</td>\n",
       "      <td>2022-09</td>\n",
       "    </tr>\n",
       "    <tr>\n",
       "      <th>3</th>\n",
       "      <td>t3583</td>\n",
       "      <td>2022-09-30</td>\n",
       "      <td>54.45</td>\n",
       "      <td>u17</td>\n",
       "      <td>2022-03-08</td>\n",
       "      <td>2022-09</td>\n",
       "      <td>2022-03</td>\n",
       "    </tr>\n",
       "    <tr>\n",
       "      <th>4</th>\n",
       "      <td>t3584</td>\n",
       "      <td>2022-09-30</td>\n",
       "      <td>108.90</td>\n",
       "      <td>u465</td>\n",
       "      <td>2022-05-12</td>\n",
       "      <td>2022-09</td>\n",
       "      <td>2022-05</td>\n",
       "    </tr>\n",
       "  </tbody>\n",
       "</table>\n",
       "</div>"
      ],
      "text/plain": [
       "  txn_id   txn_date  amount_usd user_id  user_date txn_date_ym user_date_ym\n",
       "0  t3580 2022-09-30       24.50   u1038 2022-09-10     2022-09      2022-09\n",
       "1  t3581 2022-09-30      272.25    u348 2021-09-15     2022-09      2021-09\n",
       "2  t3582 2022-09-30        5.44   u1491 2022-09-30     2022-09      2022-09\n",
       "3  t3583 2022-09-30       54.45     u17 2022-03-08     2022-09      2022-03\n",
       "4  t3584 2022-09-30      108.90    u465 2022-05-12     2022-09      2022-05"
      ]
     },
     "execution_count": 7,
     "metadata": {},
     "output_type": "execute_result"
    }
   ],
   "source": [
    "df.head()"
   ]
  },
  {
   "cell_type": "markdown",
   "id": "b1cba40b-b417-43e0-8116-d47ce29446d8",
   "metadata": {},
   "source": [
    "## Initial Exploratory Analysis"
   ]
  },
  {
   "cell_type": "code",
   "execution_count": 8,
   "id": "abc86ae6-f692-48e1-a5a8-bb768110c572",
   "metadata": {},
   "outputs": [
    {
     "data": {
      "text/html": [
       "<div>\n",
       "<style scoped>\n",
       "    .dataframe tbody tr th:only-of-type {\n",
       "        vertical-align: middle;\n",
       "    }\n",
       "\n",
       "    .dataframe tbody tr th {\n",
       "        vertical-align: top;\n",
       "    }\n",
       "\n",
       "    .dataframe thead th {\n",
       "        text-align: right;\n",
       "    }\n",
       "</style>\n",
       "<table border=\"1\" class=\"dataframe\">\n",
       "  <thead>\n",
       "    <tr style=\"text-align: right;\">\n",
       "      <th>user_date_ym</th>\n",
       "      <th>2020-01</th>\n",
       "      <th>2020-02</th>\n",
       "      <th>2020-03</th>\n",
       "      <th>2020-04</th>\n",
       "      <th>2020-05</th>\n",
       "      <th>2020-06</th>\n",
       "      <th>2020-07</th>\n",
       "      <th>2020-08</th>\n",
       "      <th>2020-09</th>\n",
       "      <th>2020-10</th>\n",
       "      <th>2020-11</th>\n",
       "      <th>2020-12</th>\n",
       "      <th>2021-01</th>\n",
       "      <th>2021-02</th>\n",
       "      <th>2021-03</th>\n",
       "      <th>2021-04</th>\n",
       "      <th>2021-05</th>\n",
       "      <th>2021-06</th>\n",
       "      <th>2021-07</th>\n",
       "      <th>2021-08</th>\n",
       "      <th>2021-09</th>\n",
       "      <th>2021-10</th>\n",
       "      <th>2021-11</th>\n",
       "      <th>2021-12</th>\n",
       "      <th>2022-01</th>\n",
       "      <th>2022-02</th>\n",
       "      <th>2022-03</th>\n",
       "      <th>2022-04</th>\n",
       "      <th>2022-05</th>\n",
       "      <th>2022-06</th>\n",
       "      <th>2022-07</th>\n",
       "      <th>2022-08</th>\n",
       "      <th>2022-09</th>\n",
       "    </tr>\n",
       "  </thead>\n",
       "  <tbody>\n",
       "    <tr>\n",
       "      <th>user_id</th>\n",
       "      <td>10</td>\n",
       "      <td>29</td>\n",
       "      <td>68</td>\n",
       "      <td>270</td>\n",
       "      <td>159</td>\n",
       "      <td>347</td>\n",
       "      <td>293</td>\n",
       "      <td>399</td>\n",
       "      <td>704</td>\n",
       "      <td>261</td>\n",
       "      <td>425</td>\n",
       "      <td>507</td>\n",
       "      <td>856</td>\n",
       "      <td>1474</td>\n",
       "      <td>1290</td>\n",
       "      <td>689</td>\n",
       "      <td>464</td>\n",
       "      <td>1346</td>\n",
       "      <td>1763</td>\n",
       "      <td>3599</td>\n",
       "      <td>3846</td>\n",
       "      <td>4628</td>\n",
       "      <td>7400</td>\n",
       "      <td>13251</td>\n",
       "      <td>35273</td>\n",
       "      <td>12439</td>\n",
       "      <td>7104</td>\n",
       "      <td>3163</td>\n",
       "      <td>1867</td>\n",
       "      <td>1635</td>\n",
       "      <td>1504</td>\n",
       "      <td>1229</td>\n",
       "      <td>767</td>\n",
       "    </tr>\n",
       "  </tbody>\n",
       "</table>\n",
       "</div>"
      ],
      "text/plain": [
       "user_date_ym  2020-01  2020-02  2020-03  2020-04  2020-05  2020-06  2020-07  \\\n",
       "user_id            10       29       68      270      159      347      293   \n",
       "\n",
       "user_date_ym  2020-08  2020-09  2020-10  2020-11  2020-12  2021-01  2021-02  \\\n",
       "user_id           399      704      261      425      507      856     1474   \n",
       "\n",
       "user_date_ym  2021-03  2021-04  2021-05  2021-06  2021-07  2021-08  2021-09  \\\n",
       "user_id          1290      689      464     1346     1763     3599     3846   \n",
       "\n",
       "user_date_ym  2021-10  2021-11  2021-12  2022-01  2022-02  2022-03  2022-04  \\\n",
       "user_id          4628     7400    13251    35273    12439     7104     3163   \n",
       "\n",
       "user_date_ym  2022-05  2022-06  2022-07  2022-08  2022-09  \n",
       "user_id          1867     1635     1504     1229      767  "
      ]
     },
     "execution_count": 8,
     "metadata": {},
     "output_type": "execute_result"
    }
   ],
   "source": [
    "df[['user_date_ym', 'user_id']].groupby('user_date_ym').count().sort_index().T"
   ]
  },
  {
   "cell_type": "code",
   "execution_count": 9,
   "id": "2cedb256-4ab6-42d3-85a1-b937cf9b7e09",
   "metadata": {},
   "outputs": [
    {
     "name": "stdout",
     "output_type": "stream",
     "text": [
      "More than half of the customers have made 2 or more orders: 61.04%\n"
     ]
    }
   ],
   "source": [
    "orders_per_user = df.groupby('user_id')['txn_id'].nunique()\n",
    "multiple_orders_user = np.sum(orders_per_user > 1) / df.user_id.nunique()\n",
    "print('More than half of the customers have made 2 or more orders:', f'{round(100*multiple_orders_user, 2)}%')"
   ]
  },
  {
   "cell_type": "code",
   "execution_count": 10,
   "id": "d10604be-3f33-4c86-a58f-af5fbdf21da3",
   "metadata": {},
   "outputs": [
    {
     "name": "stdout",
     "output_type": "stream",
     "text": [
      "There are some outliers (users): 31\n"
     ]
    }
   ],
   "source": [
    "outliers = len(orders_per_user.loc[lambda x: x > 200])\n",
    "print('There are some outliers (users):', outliers)"
   ]
  },
  {
   "cell_type": "code",
   "execution_count": 11,
   "id": "e5cb67fe-323d-4e5c-867c-4806b28768dc",
   "metadata": {},
   "outputs": [
    {
     "name": "stdout",
     "output_type": "stream",
     "text": [
      "Right (Positive) Skewed distribution. Most of the customers performed 10 or less transactions.\n"
     ]
    },
    {
     "data": {
      "image/png": "[encoded data removed]",
      "text/plain": [
       "<Figure size 640x480 with 1 Axes>"
      ]
     },
     "metadata": {},
     "output_type": "display_data"
    }
   ],
   "source": [
    "orders_per_user.loc[lambda x: x < 200].hist(bins=100)\n",
    "print('Right (Positive) Skewed distribution. Most of the customers performed 10 or less transactions.')"
   ]
  },
  {
   "cell_type": "code",
   "execution_count": 12,
   "id": "5bf73b9c-5f5a-4e27-be0e-141fbd37cf0a",
   "metadata": {},
   "outputs": [
    {
     "data": {
      "text/plain": [
       "user_id\n",
       "u7887    915\n",
       "u5649    786\n",
       "u794     508\n",
       "u17      506\n",
       "u2756    420\n",
       "Name: txn_id, dtype: int64"
      ]
     },
     "execution_count": 12,
     "metadata": {},
     "output_type": "execute_result"
    }
   ],
   "source": [
    "# There are outliers worth investigating such as the user u7887 with a total of 915 transactions.\n",
    "orders_per_user.sort_values(ascending=False).head()"
   ]
  },
  {
   "cell_type": "markdown",
   "id": "ec97cacf-555a-4f47-ba8a-eb4848d9eb9f",
   "metadata": {},
   "source": [
    "### Outliers Clean up"
   ]
  },
  {
   "cell_type": "code",
   "execution_count": 13,
   "id": "5648c125-56f1-453f-9fce-5ae0fb5c1ade",
   "metadata": {},
   "outputs": [
    {
     "data": {
      "text/plain": [
       "<AxesSubplot:>"
      ]
     },
     "execution_count": 13,
     "metadata": {},
     "output_type": "execute_result"
    },
    {
     "data": {
      "image/png": "[encoded data removed]",
      "text/plain": [
       "<Figure size 640x480 with 1 Axes>"
      ]
     },
     "metadata": {},
     "output_type": "display_data"
    }
   ],
   "source": [
    "count_sum = df.groupby('user_id')[['txn_id', 'amount_usd']].agg({'txn_id': 'count', 'amount_usd': 'sum'})\n",
    "count_sum.boxplot()"
   ]
  },
  {
   "cell_type": "code",
   "execution_count": 14,
   "id": "320a65cd-a807-43a0-b59d-38cd2daa36c5",
   "metadata": {},
   "outputs": [],
   "source": [
    "def find_boundaries(df, feature, q1=0.05, q2=0.95):\n",
    "    # the boundaries are the quantiles\n",
    "    lower_boundary = df[feature].quantile(q1) # lower quantile\n",
    "    upper_boundary = df[feature].quantile(q2) # upper quantile\n",
    "    return upper_boundary, lower_boundary"
   ]
  },
  {
   "cell_type": "code",
   "execution_count": 15,
   "id": "c3d92564-1c9e-4d35-b265-d0c8bcf5d07f",
   "metadata": {},
   "outputs": [],
   "source": [
    "def capping_outliers(df, feature):\n",
    "    upper_boundary, lower_boundary = find_boundaries(df, feature)\n",
    "    df[feature] = np.where(df[feature] > upper_boundary, upper_boundary, \n",
    "                           np.where(df[feature] < lower_boundary, lower_boundary, df[feature]))"
   ]
  },
  {
   "cell_type": "code",
   "execution_count": 16,
   "id": "1ef70979-c271-4358-9742-e8b2d2cdcac2",
   "metadata": {},
   "outputs": [
    {
     "data": {
      "text/plain": [
       "[42, 1]"
      ]
     },
     "execution_count": 16,
     "metadata": {},
     "output_type": "execute_result"
    }
   ],
   "source": [
    "count_bounds = list(map(round, find_boundaries(count_sum, 'txn_id')))\n",
    "count_bounds"
   ]
  },
  {
   "cell_type": "code",
   "execution_count": 17,
   "id": "36dc44fb-9c92-46f4-9dd8-3a063182837e",
   "metadata": {},
   "outputs": [
    {
     "data": {
      "text/plain": [
       "[9627, 5]"
      ]
     },
     "execution_count": 17,
     "metadata": {},
     "output_type": "execute_result"
    }
   ],
   "source": [
    "sum_bounds = list(map(round, find_boundaries(count_sum, 'amount_usd')))\n",
    "sum_bounds"
   ]
  },
  {
   "cell_type": "code",
   "execution_count": 18,
   "id": "25b4affd-338b-4b09-bb1f-a1d2366d07fc",
   "metadata": {},
   "outputs": [],
   "source": [
    "# Selecting those users that are within the boundaries\n",
    "users = set(count_sum[(count_sum['txn_id'] <= count_bounds[0]) & (count_sum['txn_id'] >= count_bounds[1]) & \\\n",
    "         (count_sum['amount_usd'] <= sum_bounds[0]) & (count_sum['amount_usd'] >= sum_bounds[1])].index)"
   ]
  },
  {
   "cell_type": "code",
   "execution_count": 19,
   "id": "911ff5cb-0d44-4324-b3f2-f2cf9eda234a",
   "metadata": {},
   "outputs": [],
   "source": [
    "df = df[df['user_id'].isin(users)]"
   ]
  },
  {
   "cell_type": "code",
   "execution_count": 20,
   "id": "0953a2d5-a8ba-4198-8491-8a0ca6265edf",
   "metadata": {},
   "outputs": [
    {
     "data": {
      "text/plain": [
       "(50158, 7)"
      ]
     },
     "execution_count": 20,
     "metadata": {},
     "output_type": "execute_result"
    }
   ],
   "source": [
    "df.shape"
   ]
  },
  {
   "cell_type": "markdown",
   "id": "831b2dce-33fe-4f49-9589-adb70094345c",
   "metadata": {},
   "source": [
    "## Cohort Analysis"
   ]
  },
  {
   "cell_type": "code",
   "execution_count": 21,
   "id": "753c6cab-2422-4a6d-808c-92d0c11da452",
   "metadata": {},
   "outputs": [
    {
     "data": {
      "text/html": [
       "<div>\n",
       "<style scoped>\n",
       "    .dataframe tbody tr th:only-of-type {\n",
       "        vertical-align: middle;\n",
       "    }\n",
       "\n",
       "    .dataframe tbody tr th {\n",
       "        vertical-align: top;\n",
       "    }\n",
       "\n",
       "    .dataframe thead th {\n",
       "        text-align: right;\n",
       "    }\n",
       "</style>\n",
       "<table border=\"1\" class=\"dataframe\">\n",
       "  <thead>\n",
       "    <tr style=\"text-align: right;\">\n",
       "      <th></th>\n",
       "      <th>user_date_ym</th>\n",
       "      <th>txn_date_ym</th>\n",
       "      <th>n_customers</th>\n",
       "    </tr>\n",
       "  </thead>\n",
       "  <tbody>\n",
       "    <tr>\n",
       "      <th>0</th>\n",
       "      <td>2020-01</td>\n",
       "      <td>2020-03</td>\n",
       "      <td>2</td>\n",
       "    </tr>\n",
       "    <tr>\n",
       "      <th>1</th>\n",
       "      <td>2020-01</td>\n",
       "      <td>2020-04</td>\n",
       "      <td>2</td>\n",
       "    </tr>\n",
       "    <tr>\n",
       "      <th>2</th>\n",
       "      <td>2020-01</td>\n",
       "      <td>2020-05</td>\n",
       "      <td>2</td>\n",
       "    </tr>\n",
       "    <tr>\n",
       "      <th>3</th>\n",
       "      <td>2020-01</td>\n",
       "      <td>2020-06</td>\n",
       "      <td>1</td>\n",
       "    </tr>\n",
       "    <tr>\n",
       "      <th>4</th>\n",
       "      <td>2020-01</td>\n",
       "      <td>2021-03</td>\n",
       "      <td>1</td>\n",
       "    </tr>\n",
       "  </tbody>\n",
       "</table>\n",
       "</div>"
      ],
      "text/plain": [
       "  user_date_ym txn_date_ym  n_customers\n",
       "0      2020-01     2020-03            2\n",
       "1      2020-01     2020-04            2\n",
       "2      2020-01     2020-05            2\n",
       "3      2020-01     2020-06            1\n",
       "4      2020-01     2021-03            1"
      ]
     },
     "execution_count": 21,
     "metadata": {},
     "output_type": "execute_result"
    }
   ],
   "source": [
    "# Create a cohort raw table, number of customer per creation date and transaction month.\n",
    "co = df.groupby(['user_date_ym', 'txn_date_ym'])[['user_id']].agg(n_customers=('user_id', 'nunique')) \\\n",
    "                                                                        .reset_index(drop=False)\n",
    "co.head()"
   ]
  },
  {
   "cell_type": "code",
   "execution_count": 22,
   "id": "2d079a61-cc8c-44a2-9f00-2dc250058e65",
   "metadata": {},
   "outputs": [
    {
     "data": {
      "text/html": [
       "<div>\n",
       "<style scoped>\n",
       "    .dataframe tbody tr th:only-of-type {\n",
       "        vertical-align: middle;\n",
       "    }\n",
       "\n",
       "    .dataframe tbody tr th {\n",
       "        vertical-align: top;\n",
       "    }\n",
       "\n",
       "    .dataframe thead th {\n",
       "        text-align: right;\n",
       "    }\n",
       "</style>\n",
       "<table border=\"1\" class=\"dataframe\">\n",
       "  <thead>\n",
       "    <tr style=\"text-align: right;\">\n",
       "      <th></th>\n",
       "      <th>user_date_ym</th>\n",
       "      <th>txn_date_ym</th>\n",
       "      <th>n_customers</th>\n",
       "      <th>period</th>\n",
       "    </tr>\n",
       "  </thead>\n",
       "  <tbody>\n",
       "    <tr>\n",
       "      <th>0</th>\n",
       "      <td>2020-01</td>\n",
       "      <td>2020-03</td>\n",
       "      <td>2</td>\n",
       "      <td>2</td>\n",
       "    </tr>\n",
       "    <tr>\n",
       "      <th>1</th>\n",
       "      <td>2020-01</td>\n",
       "      <td>2020-04</td>\n",
       "      <td>2</td>\n",
       "      <td>3</td>\n",
       "    </tr>\n",
       "    <tr>\n",
       "      <th>2</th>\n",
       "      <td>2020-01</td>\n",
       "      <td>2020-05</td>\n",
       "      <td>2</td>\n",
       "      <td>4</td>\n",
       "    </tr>\n",
       "    <tr>\n",
       "      <th>3</th>\n",
       "      <td>2020-01</td>\n",
       "      <td>2020-06</td>\n",
       "      <td>1</td>\n",
       "      <td>5</td>\n",
       "    </tr>\n",
       "    <tr>\n",
       "      <th>4</th>\n",
       "      <td>2020-01</td>\n",
       "      <td>2021-03</td>\n",
       "      <td>1</td>\n",
       "      <td>14</td>\n",
       "    </tr>\n",
       "  </tbody>\n",
       "</table>\n",
       "</div>"
      ],
      "text/plain": [
       "  user_date_ym txn_date_ym  n_customers  period\n",
       "0      2020-01     2020-03            2       2\n",
       "1      2020-01     2020-04            2       3\n",
       "2      2020-01     2020-05            2       4\n",
       "3      2020-01     2020-06            1       5\n",
       "4      2020-01     2021-03            1      14"
      ]
     },
     "execution_count": 22,
     "metadata": {},
     "output_type": "execute_result"
    }
   ],
   "source": [
    "# Use period to change the cohort arrangement, every period equals one month here.\n",
    "co['period'] = co \\\n",
    ".apply(lambda x: (x.txn_date_ym.year - x.user_date_ym.year) * 12 + (x.txn_date_ym.month  - x.user_date_ym.month), axis=1)\n",
    "co.head()"
   ]
  },
  {
   "cell_type": "code",
   "execution_count": 23,
   "id": "9f735394-4b41-4bb4-b576-eb6a1f10cd45",
   "metadata": {},
   "outputs": [
    {
     "data": {
      "text/html": [
       "<div>\n",
       "<style scoped>\n",
       "    .dataframe tbody tr th:only-of-type {\n",
       "        vertical-align: middle;\n",
       "    }\n",
       "\n",
       "    .dataframe tbody tr th {\n",
       "        vertical-align: top;\n",
       "    }\n",
       "\n",
       "    .dataframe thead th {\n",
       "        text-align: right;\n",
       "    }\n",
       "</style>\n",
       "<table border=\"1\" class=\"dataframe\">\n",
       "  <thead>\n",
       "    <tr style=\"text-align: right;\">\n",
       "      <th></th>\n",
       "      <th>user_date_ym</th>\n",
       "      <th>txn_date_ym</th>\n",
       "      <th>n_customers</th>\n",
       "      <th>period</th>\n",
       "    </tr>\n",
       "  </thead>\n",
       "  <tbody>\n",
       "    <tr>\n",
       "      <th>0</th>\n",
       "      <td>2022-01</td>\n",
       "      <td>2022-01</td>\n",
       "      <td>911</td>\n",
       "      <td>0</td>\n",
       "    </tr>\n",
       "    <tr>\n",
       "      <th>1</th>\n",
       "      <td>2022-01</td>\n",
       "      <td>2022-02</td>\n",
       "      <td>371</td>\n",
       "      <td>1</td>\n",
       "    </tr>\n",
       "    <tr>\n",
       "      <th>2</th>\n",
       "      <td>2022-01</td>\n",
       "      <td>2022-03</td>\n",
       "      <td>171</td>\n",
       "      <td>2</td>\n",
       "    </tr>\n",
       "    <tr>\n",
       "      <th>3</th>\n",
       "      <td>2022-01</td>\n",
       "      <td>2022-04</td>\n",
       "      <td>116</td>\n",
       "      <td>3</td>\n",
       "    </tr>\n",
       "    <tr>\n",
       "      <th>4</th>\n",
       "      <td>2022-01</td>\n",
       "      <td>2022-05</td>\n",
       "      <td>64</td>\n",
       "      <td>4</td>\n",
       "    </tr>\n",
       "  </tbody>\n",
       "</table>\n",
       "</div>"
      ],
      "text/plain": [
       "  user_date_ym txn_date_ym  n_customers  period\n",
       "0      2022-01     2022-01          911       0\n",
       "1      2022-01     2022-02          371       1\n",
       "2      2022-01     2022-03          171       2\n",
       "3      2022-01     2022-04          116       3\n",
       "4      2022-01     2022-05           64       4"
      ]
     },
     "execution_count": 23,
     "metadata": {},
     "output_type": "execute_result"
    }
   ],
   "source": [
    "# Removing errors and selection last year only.\n",
    "co_22 = co[(co.user_date_ym >= '2022-01') & (co.period >= 0)].reset_index(drop=True)\n",
    "co_22.head()"
   ]
  },
  {
   "cell_type": "code",
   "execution_count": 24,
   "id": "45129d7c-0126-497b-8263-27a0dbc46215",
   "metadata": {},
   "outputs": [],
   "source": [
    "# Creating Cohort table based on periods or txn_date_ym column. Same data, different sorting.\n",
    "cohort_pivot_period = co_22.pivot_table(index = 'user_date_ym', columns = 'period', values = 'n_customers')\n",
    "cohort_pivot_by_txn = co_22.pivot_table(index = 'user_date_ym', columns = 'txn_date_ym', values = 'n_customers')"
   ]
  },
  {
   "cell_type": "code",
   "execution_count": 25,
   "id": "32f60a28-c523-4b68-ab38-c174ad9dfd4c",
   "metadata": {},
   "outputs": [
    {
     "data": {
      "text/html": [
       "<div>\n",
       "<style scoped>\n",
       "    .dataframe tbody tr th:only-of-type {\n",
       "        vertical-align: middle;\n",
       "    }\n",
       "\n",
       "    .dataframe tbody tr th {\n",
       "        vertical-align: top;\n",
       "    }\n",
       "\n",
       "    .dataframe thead th {\n",
       "        text-align: right;\n",
       "    }\n",
       "</style>\n",
       "<table border=\"1\" class=\"dataframe\">\n",
       "  <thead>\n",
       "    <tr style=\"text-align: right;\">\n",
       "      <th>period</th>\n",
       "      <th>0</th>\n",
       "      <th>1</th>\n",
       "      <th>2</th>\n",
       "      <th>3</th>\n",
       "      <th>4</th>\n",
       "      <th>5</th>\n",
       "      <th>6</th>\n",
       "      <th>7</th>\n",
       "      <th>8</th>\n",
       "    </tr>\n",
       "    <tr>\n",
       "      <th>user_date_ym</th>\n",
       "      <th></th>\n",
       "      <th></th>\n",
       "      <th></th>\n",
       "      <th></th>\n",
       "      <th></th>\n",
       "      <th></th>\n",
       "      <th></th>\n",
       "      <th></th>\n",
       "      <th></th>\n",
       "    </tr>\n",
       "  </thead>\n",
       "  <tbody>\n",
       "    <tr>\n",
       "      <th>2022-01</th>\n",
       "      <td>911.0</td>\n",
       "      <td>371.0</td>\n",
       "      <td>171.0</td>\n",
       "      <td>116.0</td>\n",
       "      <td>64.0</td>\n",
       "      <td>53.0</td>\n",
       "      <td>53.0</td>\n",
       "      <td>45.0</td>\n",
       "      <td>30.0</td>\n",
       "    </tr>\n",
       "    <tr>\n",
       "      <th>2022-02</th>\n",
       "      <td>556.0</td>\n",
       "      <td>263.0</td>\n",
       "      <td>174.0</td>\n",
       "      <td>76.0</td>\n",
       "      <td>63.0</td>\n",
       "      <td>60.0</td>\n",
       "      <td>53.0</td>\n",
       "      <td>36.0</td>\n",
       "      <td>NaN</td>\n",
       "    </tr>\n",
       "    <tr>\n",
       "      <th>2022-03</th>\n",
       "      <td>541.0</td>\n",
       "      <td>263.0</td>\n",
       "      <td>130.0</td>\n",
       "      <td>86.0</td>\n",
       "      <td>71.0</td>\n",
       "      <td>64.0</td>\n",
       "      <td>54.0</td>\n",
       "      <td>NaN</td>\n",
       "      <td>NaN</td>\n",
       "    </tr>\n",
       "    <tr>\n",
       "      <th>2022-04</th>\n",
       "      <td>493.0</td>\n",
       "      <td>230.0</td>\n",
       "      <td>130.0</td>\n",
       "      <td>111.0</td>\n",
       "      <td>100.0</td>\n",
       "      <td>80.0</td>\n",
       "      <td>NaN</td>\n",
       "      <td>NaN</td>\n",
       "      <td>NaN</td>\n",
       "    </tr>\n",
       "    <tr>\n",
       "      <th>2022-05</th>\n",
       "      <td>364.0</td>\n",
       "      <td>167.0</td>\n",
       "      <td>123.0</td>\n",
       "      <td>99.0</td>\n",
       "      <td>74.0</td>\n",
       "      <td>NaN</td>\n",
       "      <td>NaN</td>\n",
       "      <td>NaN</td>\n",
       "      <td>NaN</td>\n",
       "    </tr>\n",
       "    <tr>\n",
       "      <th>2022-06</th>\n",
       "      <td>323.0</td>\n",
       "      <td>149.0</td>\n",
       "      <td>108.0</td>\n",
       "      <td>95.0</td>\n",
       "      <td>NaN</td>\n",
       "      <td>NaN</td>\n",
       "      <td>NaN</td>\n",
       "      <td>NaN</td>\n",
       "      <td>NaN</td>\n",
       "    </tr>\n",
       "    <tr>\n",
       "      <th>2022-07</th>\n",
       "      <td>360.0</td>\n",
       "      <td>183.0</td>\n",
       "      <td>116.0</td>\n",
       "      <td>NaN</td>\n",
       "      <td>NaN</td>\n",
       "      <td>NaN</td>\n",
       "      <td>NaN</td>\n",
       "      <td>NaN</td>\n",
       "      <td>NaN</td>\n",
       "    </tr>\n",
       "    <tr>\n",
       "      <th>2022-08</th>\n",
       "      <td>398.0</td>\n",
       "      <td>175.0</td>\n",
       "      <td>NaN</td>\n",
       "      <td>NaN</td>\n",
       "      <td>NaN</td>\n",
       "      <td>NaN</td>\n",
       "      <td>NaN</td>\n",
       "      <td>NaN</td>\n",
       "      <td>NaN</td>\n",
       "    </tr>\n",
       "    <tr>\n",
       "      <th>2022-09</th>\n",
       "      <td>430.0</td>\n",
       "      <td>NaN</td>\n",
       "      <td>NaN</td>\n",
       "      <td>NaN</td>\n",
       "      <td>NaN</td>\n",
       "      <td>NaN</td>\n",
       "      <td>NaN</td>\n",
       "      <td>NaN</td>\n",
       "      <td>NaN</td>\n",
       "    </tr>\n",
       "  </tbody>\n",
       "</table>\n",
       "</div>"
      ],
      "text/plain": [
       "period            0      1      2      3      4     5     6     7     8\n",
       "user_date_ym                                                           \n",
       "2022-01       911.0  371.0  171.0  116.0   64.0  53.0  53.0  45.0  30.0\n",
       "2022-02       556.0  263.0  174.0   76.0   63.0  60.0  53.0  36.0   NaN\n",
       "2022-03       541.0  263.0  130.0   86.0   71.0  64.0  54.0   NaN   NaN\n",
       "2022-04       493.0  230.0  130.0  111.0  100.0  80.0   NaN   NaN   NaN\n",
       "2022-05       364.0  167.0  123.0   99.0   74.0   NaN   NaN   NaN   NaN\n",
       "2022-06       323.0  149.0  108.0   95.0    NaN   NaN   NaN   NaN   NaN\n",
       "2022-07       360.0  183.0  116.0    NaN    NaN   NaN   NaN   NaN   NaN\n",
       "2022-08       398.0  175.0    NaN    NaN    NaN   NaN   NaN   NaN   NaN\n",
       "2022-09       430.0    NaN    NaN    NaN    NaN   NaN   NaN   NaN   NaN"
      ]
     },
     "execution_count": 25,
     "metadata": {},
     "output_type": "execute_result"
    }
   ],
   "source": [
    "cohort_pivot_period"
   ]
  },
  {
   "cell_type": "code",
   "execution_count": 26,
   "id": "a1c823b4-ac03-4424-8797-05edf53643be",
   "metadata": {},
   "outputs": [
    {
     "data": {
      "text/html": [
       "<div>\n",
       "<style scoped>\n",
       "    .dataframe tbody tr th:only-of-type {\n",
       "        vertical-align: middle;\n",
       "    }\n",
       "\n",
       "    .dataframe tbody tr th {\n",
       "        vertical-align: top;\n",
       "    }\n",
       "\n",
       "    .dataframe thead th {\n",
       "        text-align: right;\n",
       "    }\n",
       "</style>\n",
       "<table border=\"1\" class=\"dataframe\">\n",
       "  <thead>\n",
       "    <tr style=\"text-align: right;\">\n",
       "      <th>txn_date_ym</th>\n",
       "      <th>2022-01</th>\n",
       "      <th>2022-02</th>\n",
       "      <th>2022-03</th>\n",
       "      <th>2022-04</th>\n",
       "      <th>2022-05</th>\n",
       "      <th>2022-06</th>\n",
       "      <th>2022-07</th>\n",
       "      <th>2022-08</th>\n",
       "      <th>2022-09</th>\n",
       "    </tr>\n",
       "    <tr>\n",
       "      <th>user_date_ym</th>\n",
       "      <th></th>\n",
       "      <th></th>\n",
       "      <th></th>\n",
       "      <th></th>\n",
       "      <th></th>\n",
       "      <th></th>\n",
       "      <th></th>\n",
       "      <th></th>\n",
       "      <th></th>\n",
       "    </tr>\n",
       "  </thead>\n",
       "  <tbody>\n",
       "    <tr>\n",
       "      <th>2022-01</th>\n",
       "      <td>911.0</td>\n",
       "      <td>371.0</td>\n",
       "      <td>171.0</td>\n",
       "      <td>116.0</td>\n",
       "      <td>64.0</td>\n",
       "      <td>53.0</td>\n",
       "      <td>53.0</td>\n",
       "      <td>45.0</td>\n",
       "      <td>30.0</td>\n",
       "    </tr>\n",
       "    <tr>\n",
       "      <th>2022-02</th>\n",
       "      <td>NaN</td>\n",
       "      <td>556.0</td>\n",
       "      <td>263.0</td>\n",
       "      <td>174.0</td>\n",
       "      <td>76.0</td>\n",
       "      <td>63.0</td>\n",
       "      <td>60.0</td>\n",
       "      <td>53.0</td>\n",
       "      <td>36.0</td>\n",
       "    </tr>\n",
       "    <tr>\n",
       "      <th>2022-03</th>\n",
       "      <td>NaN</td>\n",
       "      <td>NaN</td>\n",
       "      <td>541.0</td>\n",
       "      <td>263.0</td>\n",
       "      <td>130.0</td>\n",
       "      <td>86.0</td>\n",
       "      <td>71.0</td>\n",
       "      <td>64.0</td>\n",
       "      <td>54.0</td>\n",
       "    </tr>\n",
       "    <tr>\n",
       "      <th>2022-04</th>\n",
       "      <td>NaN</td>\n",
       "      <td>NaN</td>\n",
       "      <td>NaN</td>\n",
       "      <td>493.0</td>\n",
       "      <td>230.0</td>\n",
       "      <td>130.0</td>\n",
       "      <td>111.0</td>\n",
       "      <td>100.0</td>\n",
       "      <td>80.0</td>\n",
       "    </tr>\n",
       "    <tr>\n",
       "      <th>2022-05</th>\n",
       "      <td>NaN</td>\n",
       "      <td>NaN</td>\n",
       "      <td>NaN</td>\n",
       "      <td>NaN</td>\n",
       "      <td>364.0</td>\n",
       "      <td>167.0</td>\n",
       "      <td>123.0</td>\n",
       "      <td>99.0</td>\n",
       "      <td>74.0</td>\n",
       "    </tr>\n",
       "    <tr>\n",
       "      <th>2022-06</th>\n",
       "      <td>NaN</td>\n",
       "      <td>NaN</td>\n",
       "      <td>NaN</td>\n",
       "      <td>NaN</td>\n",
       "      <td>NaN</td>\n",
       "      <td>323.0</td>\n",
       "      <td>149.0</td>\n",
       "      <td>108.0</td>\n",
       "      <td>95.0</td>\n",
       "    </tr>\n",
       "    <tr>\n",
       "      <th>2022-07</th>\n",
       "      <td>NaN</td>\n",
       "      <td>NaN</td>\n",
       "      <td>NaN</td>\n",
       "      <td>NaN</td>\n",
       "      <td>NaN</td>\n",
       "      <td>NaN</td>\n",
       "      <td>360.0</td>\n",
       "      <td>183.0</td>\n",
       "      <td>116.0</td>\n",
       "    </tr>\n",
       "    <tr>\n",
       "      <th>2022-08</th>\n",
       "      <td>NaN</td>\n",
       "      <td>NaN</td>\n",
       "      <td>NaN</td>\n",
       "      <td>NaN</td>\n",
       "      <td>NaN</td>\n",
       "      <td>NaN</td>\n",
       "      <td>NaN</td>\n",
       "      <td>398.0</td>\n",
       "      <td>175.0</td>\n",
       "    </tr>\n",
       "    <tr>\n",
       "      <th>2022-09</th>\n",
       "      <td>NaN</td>\n",
       "      <td>NaN</td>\n",
       "      <td>NaN</td>\n",
       "      <td>NaN</td>\n",
       "      <td>NaN</td>\n",
       "      <td>NaN</td>\n",
       "      <td>NaN</td>\n",
       "      <td>NaN</td>\n",
       "      <td>430.0</td>\n",
       "    </tr>\n",
       "  </tbody>\n",
       "</table>\n",
       "</div>"
      ],
      "text/plain": [
       "txn_date_ym   2022-01  2022-02  2022-03  2022-04  2022-05  2022-06  2022-07  \\\n",
       "user_date_ym                                                                  \n",
       "2022-01         911.0    371.0    171.0    116.0     64.0     53.0     53.0   \n",
       "2022-02           NaN    556.0    263.0    174.0     76.0     63.0     60.0   \n",
       "2022-03           NaN      NaN    541.0    263.0    130.0     86.0     71.0   \n",
       "2022-04           NaN      NaN      NaN    493.0    230.0    130.0    111.0   \n",
       "2022-05           NaN      NaN      NaN      NaN    364.0    167.0    123.0   \n",
       "2022-06           NaN      NaN      NaN      NaN      NaN    323.0    149.0   \n",
       "2022-07           NaN      NaN      NaN      NaN      NaN      NaN    360.0   \n",
       "2022-08           NaN      NaN      NaN      NaN      NaN      NaN      NaN   \n",
       "2022-09           NaN      NaN      NaN      NaN      NaN      NaN      NaN   \n",
       "\n",
       "txn_date_ym   2022-08  2022-09  \n",
       "user_date_ym                    \n",
       "2022-01          45.0     30.0  \n",
       "2022-02          53.0     36.0  \n",
       "2022-03          64.0     54.0  \n",
       "2022-04         100.0     80.0  \n",
       "2022-05          99.0     74.0  \n",
       "2022-06         108.0     95.0  \n",
       "2022-07         183.0    116.0  \n",
       "2022-08         398.0    175.0  \n",
       "2022-09           NaN    430.0  "
      ]
     },
     "execution_count": 26,
     "metadata": {},
     "output_type": "execute_result"
    }
   ],
   "source": [
    "cohort_pivot_by_txn"
   ]
  },
  {
   "cell_type": "code",
   "execution_count": 27,
   "id": "53f5657e-c857-4ef1-a21c-8ca7f42aca15",
   "metadata": {},
   "outputs": [
    {
     "data": {
      "text/html": [
       "<div>\n",
       "<style scoped>\n",
       "    .dataframe tbody tr th:only-of-type {\n",
       "        vertical-align: middle;\n",
       "    }\n",
       "\n",
       "    .dataframe tbody tr th {\n",
       "        vertical-align: top;\n",
       "    }\n",
       "\n",
       "    .dataframe thead th {\n",
       "        text-align: right;\n",
       "    }\n",
       "</style>\n",
       "<table border=\"1\" class=\"dataframe\">\n",
       "  <thead>\n",
       "    <tr style=\"text-align: right;\">\n",
       "      <th>user_date_ym</th>\n",
       "      <th>2022-01</th>\n",
       "      <th>2022-02</th>\n",
       "      <th>2022-03</th>\n",
       "      <th>2022-04</th>\n",
       "      <th>2022-05</th>\n",
       "      <th>2022-06</th>\n",
       "      <th>2022-07</th>\n",
       "      <th>2022-08</th>\n",
       "      <th>2022-09</th>\n",
       "    </tr>\n",
       "  </thead>\n",
       "  <tbody>\n",
       "    <tr>\n",
       "      <th>cohort_size</th>\n",
       "      <td>1189</td>\n",
       "      <td>744</td>\n",
       "      <td>741</td>\n",
       "      <td>667</td>\n",
       "      <td>519</td>\n",
       "      <td>455</td>\n",
       "      <td>445</td>\n",
       "      <td>466</td>\n",
       "      <td>430</td>\n",
       "    </tr>\n",
       "  </tbody>\n",
       "</table>\n",
       "</div>"
      ],
      "text/plain": [
       "user_date_ym  2022-01  2022-02  2022-03  2022-04  2022-05  2022-06  2022-07  \\\n",
       "cohort_size      1189      744      741      667      519      455      445   \n",
       "\n",
       "user_date_ym  2022-08  2022-09  \n",
       "cohort_size       466      430  "
      ]
     },
     "execution_count": 27,
     "metadata": {},
     "output_type": "execute_result"
    }
   ],
   "source": [
    "cohort_size = df.groupby('user_date_ym').agg(cohort_size=('user_id', 'nunique'))['2022-01':]\n",
    "cohort_size.T"
   ]
  },
  {
   "cell_type": "code",
   "execution_count": 28,
   "id": "ba58d36e-84d7-4a11-aed2-96947e82ddbc",
   "metadata": {},
   "outputs": [
    {
     "data": {
      "text/html": [
       "<div>\n",
       "<style scoped>\n",
       "    .dataframe tbody tr th:only-of-type {\n",
       "        vertical-align: middle;\n",
       "    }\n",
       "\n",
       "    .dataframe tbody tr th {\n",
       "        vertical-align: top;\n",
       "    }\n",
       "\n",
       "    .dataframe thead th {\n",
       "        text-align: right;\n",
       "    }\n",
       "</style>\n",
       "<table border=\"1\" class=\"dataframe\">\n",
       "  <thead>\n",
       "    <tr style=\"text-align: right;\">\n",
       "      <th>txn_date_ym</th>\n",
       "      <th>2022-01</th>\n",
       "      <th>2022-02</th>\n",
       "      <th>2022-03</th>\n",
       "      <th>2022-04</th>\n",
       "      <th>2022-05</th>\n",
       "      <th>2022-06</th>\n",
       "      <th>2022-07</th>\n",
       "      <th>2022-08</th>\n",
       "      <th>2022-09</th>\n",
       "    </tr>\n",
       "    <tr>\n",
       "      <th>user_date_ym</th>\n",
       "      <th></th>\n",
       "      <th></th>\n",
       "      <th></th>\n",
       "      <th></th>\n",
       "      <th></th>\n",
       "      <th></th>\n",
       "      <th></th>\n",
       "      <th></th>\n",
       "      <th></th>\n",
       "    </tr>\n",
       "  </thead>\n",
       "  <tbody>\n",
       "    <tr>\n",
       "      <th>2022-01</th>\n",
       "      <td>0.76619</td>\n",
       "      <td>0.312027</td>\n",
       "      <td>0.143818</td>\n",
       "      <td>0.097561</td>\n",
       "      <td>0.053827</td>\n",
       "      <td>0.044575</td>\n",
       "      <td>0.044575</td>\n",
       "      <td>0.037847</td>\n",
       "      <td>0.025231</td>\n",
       "    </tr>\n",
       "    <tr>\n",
       "      <th>2022-02</th>\n",
       "      <td>NaN</td>\n",
       "      <td>0.747312</td>\n",
       "      <td>0.353495</td>\n",
       "      <td>0.233871</td>\n",
       "      <td>0.102151</td>\n",
       "      <td>0.084677</td>\n",
       "      <td>0.080645</td>\n",
       "      <td>0.071237</td>\n",
       "      <td>0.048387</td>\n",
       "    </tr>\n",
       "    <tr>\n",
       "      <th>2022-03</th>\n",
       "      <td>NaN</td>\n",
       "      <td>NaN</td>\n",
       "      <td>0.730094</td>\n",
       "      <td>0.354926</td>\n",
       "      <td>0.175439</td>\n",
       "      <td>0.116059</td>\n",
       "      <td>0.095816</td>\n",
       "      <td>0.086370</td>\n",
       "      <td>0.072874</td>\n",
       "    </tr>\n",
       "    <tr>\n",
       "      <th>2022-04</th>\n",
       "      <td>NaN</td>\n",
       "      <td>NaN</td>\n",
       "      <td>NaN</td>\n",
       "      <td>0.739130</td>\n",
       "      <td>0.344828</td>\n",
       "      <td>0.194903</td>\n",
       "      <td>0.166417</td>\n",
       "      <td>0.149925</td>\n",
       "      <td>0.119940</td>\n",
       "    </tr>\n",
       "    <tr>\n",
       "      <th>2022-05</th>\n",
       "      <td>NaN</td>\n",
       "      <td>NaN</td>\n",
       "      <td>NaN</td>\n",
       "      <td>NaN</td>\n",
       "      <td>0.701349</td>\n",
       "      <td>0.321773</td>\n",
       "      <td>0.236994</td>\n",
       "      <td>0.190751</td>\n",
       "      <td>0.142582</td>\n",
       "    </tr>\n",
       "    <tr>\n",
       "      <th>2022-06</th>\n",
       "      <td>NaN</td>\n",
       "      <td>NaN</td>\n",
       "      <td>NaN</td>\n",
       "      <td>NaN</td>\n",
       "      <td>NaN</td>\n",
       "      <td>0.709890</td>\n",
       "      <td>0.327473</td>\n",
       "      <td>0.237363</td>\n",
       "      <td>0.208791</td>\n",
       "    </tr>\n",
       "    <tr>\n",
       "      <th>2022-07</th>\n",
       "      <td>NaN</td>\n",
       "      <td>NaN</td>\n",
       "      <td>NaN</td>\n",
       "      <td>NaN</td>\n",
       "      <td>NaN</td>\n",
       "      <td>NaN</td>\n",
       "      <td>0.808989</td>\n",
       "      <td>0.411236</td>\n",
       "      <td>0.260674</td>\n",
       "    </tr>\n",
       "    <tr>\n",
       "      <th>2022-08</th>\n",
       "      <td>NaN</td>\n",
       "      <td>NaN</td>\n",
       "      <td>NaN</td>\n",
       "      <td>NaN</td>\n",
       "      <td>NaN</td>\n",
       "      <td>NaN</td>\n",
       "      <td>NaN</td>\n",
       "      <td>0.854077</td>\n",
       "      <td>0.375536</td>\n",
       "    </tr>\n",
       "    <tr>\n",
       "      <th>2022-09</th>\n",
       "      <td>NaN</td>\n",
       "      <td>NaN</td>\n",
       "      <td>NaN</td>\n",
       "      <td>NaN</td>\n",
       "      <td>NaN</td>\n",
       "      <td>NaN</td>\n",
       "      <td>NaN</td>\n",
       "      <td>NaN</td>\n",
       "      <td>1.000000</td>\n",
       "    </tr>\n",
       "  </tbody>\n",
       "</table>\n",
       "</div>"
      ],
      "text/plain": [
       "txn_date_ym   2022-01   2022-02   2022-03   2022-04   2022-05   2022-06  \\\n",
       "user_date_ym                                                              \n",
       "2022-01       0.76619  0.312027  0.143818  0.097561  0.053827  0.044575   \n",
       "2022-02           NaN  0.747312  0.353495  0.233871  0.102151  0.084677   \n",
       "2022-03           NaN       NaN  0.730094  0.354926  0.175439  0.116059   \n",
       "2022-04           NaN       NaN       NaN  0.739130  0.344828  0.194903   \n",
       "2022-05           NaN       NaN       NaN       NaN  0.701349  0.321773   \n",
       "2022-06           NaN       NaN       NaN       NaN       NaN  0.709890   \n",
       "2022-07           NaN       NaN       NaN       NaN       NaN       NaN   \n",
       "2022-08           NaN       NaN       NaN       NaN       NaN       NaN   \n",
       "2022-09           NaN       NaN       NaN       NaN       NaN       NaN   \n",
       "\n",
       "txn_date_ym    2022-07   2022-08   2022-09  \n",
       "user_date_ym                                \n",
       "2022-01       0.044575  0.037847  0.025231  \n",
       "2022-02       0.080645  0.071237  0.048387  \n",
       "2022-03       0.095816  0.086370  0.072874  \n",
       "2022-04       0.166417  0.149925  0.119940  \n",
       "2022-05       0.236994  0.190751  0.142582  \n",
       "2022-06       0.327473  0.237363  0.208791  \n",
       "2022-07       0.808989  0.411236  0.260674  \n",
       "2022-08            NaN  0.854077  0.375536  \n",
       "2022-09            NaN       NaN  1.000000  "
      ]
     },
     "execution_count": 28,
     "metadata": {},
     "output_type": "execute_result"
    }
   ],
   "source": [
    "retention_matrix = cohort_pivot_by_txn.apply(lambda x: x.div(cohort_size.values.flatten()), axis=0)\n",
    "retention_matrix"
   ]
  },
  {
   "cell_type": "code",
   "execution_count": 29,
   "id": "b78984a8-a73a-4bf8-9fb0-18263102ea4d",
   "metadata": {},
   "outputs": [
    {
     "data": {
      "image/png": "[encoded data removed]",
      "text/plain": [
       "<Figure size 1200x500 with 3 Axes>"
      ]
     },
     "metadata": {},
     "output_type": "display_data"
    }
   ],
   "source": [
    "# Plotting\n",
    "#with sns.axes_style(\"white\"):\n",
    "fig, ax = plt.subplots(1, 2, figsize=(12, 5), sharey=True, gridspec_kw={'width_ratios': [1, 11]})\n",
    "\n",
    "# retention matrix\n",
    "sns.heatmap(retention_matrix, mask=retention_matrix.isnull(), annot=True, fmt='.0%', cmap='RdYlGn', ax=ax[1])\n",
    "ax[1].set_title('Monthly Cohorts: User Retention', fontsize=16) \n",
    "ax[1].set(xlabel='', ylabel='')\n",
    "ax[1].xaxis.set_label_position('top') # Sets x label name at the top\n",
    "ax[1].xaxis.tick_top() # Set x ticks at the top\n",
    "ax[1].yaxis.set_ticks_position('none') # removes y tick mark (-)\n",
    "\n",
    "# cohort size\n",
    "cohort_size_df = pd.DataFrame(cohort_size).rename(columns={0: 'cohort_size'})\n",
    "sns.heatmap(cohort_size_df, annot=True, cbar=False, fmt='g', cmap='RdYlGn', ax=ax[0])\n",
    "ax[0].set_ylabel(\"User's joining date\")\n",
    "ax[0].xaxis.tick_top()\n",
    "fig.tight_layout()"
   ]
  },
  {
   "cell_type": "markdown",
   "id": "c9de7020-3804-4bf2-9637-730d05675bea",
   "metadata": {},
   "source": [
    "### Conclusions\n",
    "\n",
    "- 1. The number of users is declining month by month. \n",
    "- 2. First month (period) does not add up 100% this is due to the fact that there are users that didnt perform any purchase the month they joined.\n",
    "- 3. Retention decreases fast in the first 3 months going from ~80% to ~15%."
   ]
  },
  {
   "cell_type": "markdown",
   "id": "4152d446-6648-4480-93a1-77044e8244bc",
   "metadata": {},
   "source": [
    "## RFM Analysis with Machine Learning\n",
    "\n",
    "We will dive deep into January since it is the month with the highest number of new users."
   ]
  },
  {
   "cell_type": "code",
   "execution_count": 30,
   "id": "f8f0ca57-5fd8-4123-bbe4-2ca5f4155c19",
   "metadata": {},
   "outputs": [
    {
     "data": {
      "text/html": [
       "<div>\n",
       "<style scoped>\n",
       "    .dataframe tbody tr th:only-of-type {\n",
       "        vertical-align: middle;\n",
       "    }\n",
       "\n",
       "    .dataframe tbody tr th {\n",
       "        vertical-align: top;\n",
       "    }\n",
       "\n",
       "    .dataframe thead th {\n",
       "        text-align: right;\n",
       "    }\n",
       "</style>\n",
       "<table border=\"1\" class=\"dataframe\">\n",
       "  <thead>\n",
       "    <tr style=\"text-align: right;\">\n",
       "      <th></th>\n",
       "      <th>txn_id</th>\n",
       "      <th>user_id</th>\n",
       "      <th>txn_date</th>\n",
       "      <th>txn_date_ym</th>\n",
       "      <th>amount_usd</th>\n",
       "    </tr>\n",
       "  </thead>\n",
       "  <tbody>\n",
       "    <tr>\n",
       "      <th>0</th>\n",
       "      <td>t3670</td>\n",
       "      <td>u1379</td>\n",
       "      <td>2022-09-30</td>\n",
       "      <td>2022-09</td>\n",
       "      <td>17.97</td>\n",
       "    </tr>\n",
       "    <tr>\n",
       "      <th>1</th>\n",
       "      <td>t3672</td>\n",
       "      <td>u1379</td>\n",
       "      <td>2022-09-30</td>\n",
       "      <td>2022-09</td>\n",
       "      <td>17.97</td>\n",
       "    </tr>\n",
       "    <tr>\n",
       "      <th>2</th>\n",
       "      <td>t3740</td>\n",
       "      <td>u1537</td>\n",
       "      <td>2022-09-30</td>\n",
       "      <td>2022-09</td>\n",
       "      <td>13.61</td>\n",
       "    </tr>\n",
       "    <tr>\n",
       "      <th>3</th>\n",
       "      <td>t3761</td>\n",
       "      <td>u8</td>\n",
       "      <td>2022-09-29</td>\n",
       "      <td>2022-09</td>\n",
       "      <td>27.22</td>\n",
       "    </tr>\n",
       "    <tr>\n",
       "      <th>4</th>\n",
       "      <td>t3766</td>\n",
       "      <td>u745</td>\n",
       "      <td>2022-09-29</td>\n",
       "      <td>2022-09</td>\n",
       "      <td>49.00</td>\n",
       "    </tr>\n",
       "  </tbody>\n",
       "</table>\n",
       "</div>"
      ],
      "text/plain": [
       "  txn_id user_id   txn_date txn_date_ym  amount_usd\n",
       "0  t3670   u1379 2022-09-30     2022-09       17.97\n",
       "1  t3672   u1379 2022-09-30     2022-09       17.97\n",
       "2  t3740   u1537 2022-09-30     2022-09       13.61\n",
       "3  t3761      u8 2022-09-29     2022-09       27.22\n",
       "4  t3766    u745 2022-09-29     2022-09       49.00"
      ]
     },
     "execution_count": 30,
     "metadata": {},
     "output_type": "execute_result"
    }
   ],
   "source": [
    "t = '2022-01'\n",
    "co = df[df['user_date_ym'] == t][['txn_id', 'user_id', 'txn_date', 'txn_date_ym', 'amount_usd']].reset_index(drop=True)\n",
    "co.head()"
   ]
  },
  {
   "cell_type": "code",
   "execution_count": 31,
   "id": "cb822e9d-d95a-44d6-b176-31578f4778bd",
   "metadata": {},
   "outputs": [
    {
     "data": {
      "text/html": [
       "<div>\n",
       "<style scoped>\n",
       "    .dataframe tbody tr th:only-of-type {\n",
       "        vertical-align: middle;\n",
       "    }\n",
       "\n",
       "    .dataframe tbody tr th {\n",
       "        vertical-align: top;\n",
       "    }\n",
       "\n",
       "    .dataframe thead th {\n",
       "        text-align: right;\n",
       "    }\n",
       "</style>\n",
       "<table border=\"1\" class=\"dataframe\">\n",
       "  <thead>\n",
       "    <tr style=\"text-align: right;\">\n",
       "      <th></th>\n",
       "      <th>txn_count</th>\n",
       "      <th>user_count</th>\n",
       "      <th>amount_sum</th>\n",
       "      <th>amount_mean</th>\n",
       "    </tr>\n",
       "    <tr>\n",
       "      <th>txn_date_ym</th>\n",
       "      <th></th>\n",
       "      <th></th>\n",
       "      <th></th>\n",
       "      <th></th>\n",
       "    </tr>\n",
       "  </thead>\n",
       "  <tbody>\n",
       "    <tr>\n",
       "      <th>2022-01</th>\n",
       "      <td>5064</td>\n",
       "      <td>911</td>\n",
       "      <td>1381157.45</td>\n",
       "      <td>272.740413</td>\n",
       "    </tr>\n",
       "    <tr>\n",
       "      <th>2022-02</th>\n",
       "      <td>2501</td>\n",
       "      <td>371</td>\n",
       "      <td>585853.13</td>\n",
       "      <td>234.247553</td>\n",
       "    </tr>\n",
       "    <tr>\n",
       "      <th>2022-03</th>\n",
       "      <td>707</td>\n",
       "      <td>171</td>\n",
       "      <td>80713.61</td>\n",
       "      <td>114.163522</td>\n",
       "    </tr>\n",
       "    <tr>\n",
       "      <th>2022-04</th>\n",
       "      <td>483</td>\n",
       "      <td>116</td>\n",
       "      <td>41494.46</td>\n",
       "      <td>85.909855</td>\n",
       "    </tr>\n",
       "    <tr>\n",
       "      <th>2022-05</th>\n",
       "      <td>173</td>\n",
       "      <td>64</td>\n",
       "      <td>10576.97</td>\n",
       "      <td>61.138555</td>\n",
       "    </tr>\n",
       "    <tr>\n",
       "      <th>2022-06</th>\n",
       "      <td>123</td>\n",
       "      <td>53</td>\n",
       "      <td>13040.29</td>\n",
       "      <td>106.018618</td>\n",
       "    </tr>\n",
       "    <tr>\n",
       "      <th>2022-07</th>\n",
       "      <td>135</td>\n",
       "      <td>53</td>\n",
       "      <td>15317.60</td>\n",
       "      <td>113.463704</td>\n",
       "    </tr>\n",
       "    <tr>\n",
       "      <th>2022-08</th>\n",
       "      <td>88</td>\n",
       "      <td>45</td>\n",
       "      <td>10830.31</td>\n",
       "      <td>123.071705</td>\n",
       "    </tr>\n",
       "    <tr>\n",
       "      <th>2022-09</th>\n",
       "      <td>62</td>\n",
       "      <td>30</td>\n",
       "      <td>6996.15</td>\n",
       "      <td>112.841129</td>\n",
       "    </tr>\n",
       "  </tbody>\n",
       "</table>\n",
       "</div>"
      ],
      "text/plain": [
       "             txn_count  user_count  amount_sum  amount_mean\n",
       "txn_date_ym                                                \n",
       "2022-01           5064         911  1381157.45   272.740413\n",
       "2022-02           2501         371   585853.13   234.247553\n",
       "2022-03            707         171    80713.61   114.163522\n",
       "2022-04            483         116    41494.46    85.909855\n",
       "2022-05            173          64    10576.97    61.138555\n",
       "2022-06            123          53    13040.29   106.018618\n",
       "2022-07            135          53    15317.60   113.463704\n",
       "2022-08             88          45    10830.31   123.071705\n",
       "2022-09             62          30     6996.15   112.841129"
      ]
     },
     "execution_count": 31,
     "metadata": {},
     "output_type": "execute_result"
    }
   ],
   "source": [
    "co_summary = co.groupby('txn_date_ym').agg(txn_count=('txn_id', 'count'), user_count=('user_id', 'nunique'), \n",
    "                                           amount_sum=('amount_usd', 'sum'), amount_mean=('amount_usd', 'mean'))\n",
    "co_summary"
   ]
  },
  {
   "cell_type": "code",
   "execution_count": 32,
   "id": "27be0b90-a498-448e-88a0-eda58fb7a327",
   "metadata": {},
   "outputs": [
    {
     "data": {
      "text/plain": [
       "<AxesSubplot:xlabel='txn_date_ym'>"
      ]
     },
     "execution_count": 32,
     "metadata": {},
     "output_type": "execute_result"
    },
    {
     "data": {
      "image/png": "[encoded data removed]",
      "text/plain": [
       "<Figure size 640x480 with 1 Axes>"
      ]
     },
     "metadata": {},
     "output_type": "display_data"
    }
   ],
   "source": [
    "# As expected, the number of active customers drops as time goes by.\n",
    "co_summary['user_count'].plot()"
   ]
  },
  {
   "cell_type": "markdown",
   "id": "c587824f-ca4f-49f6-9f57-13b06baa4d3a",
   "metadata": {},
   "source": [
    "### Machine Learning\n",
    "\n",
    "- Which customers had a high purchase probability but didnt do anything in the next 30 days. Compare y_pred and y_true.\n",
    "- Which customers have recently purchased but are unlikely to buy again. Compare Recency values with y_pred.\n",
    "\n",
    "We will take first three month of the year (January, February and March) for training and the fourth month (April) as our test data. Notice this is a supervised model. We are not predicting what the user would do next, we are attempting to determine what the customers should have done during the fourth month giving their behaviour the first three months.\n",
    "\n",
    "The model will be a Random Forest Classifier."
   ]
  },
  {
   "cell_type": "code",
   "execution_count": 33,
   "id": "d7075cf3-b35a-4b70-a740-2d962082ac04",
   "metadata": {},
   "outputs": [
    {
     "data": {
      "text/html": [
       "<div>\n",
       "<style scoped>\n",
       "    .dataframe tbody tr th:only-of-type {\n",
       "        vertical-align: middle;\n",
       "    }\n",
       "\n",
       "    .dataframe tbody tr th {\n",
       "        vertical-align: top;\n",
       "    }\n",
       "\n",
       "    .dataframe thead th {\n",
       "        text-align: right;\n",
       "    }\n",
       "</style>\n",
       "<table border=\"1\" class=\"dataframe\">\n",
       "  <thead>\n",
       "    <tr style=\"text-align: right;\">\n",
       "      <th></th>\n",
       "      <th>txn_id</th>\n",
       "      <th>user_id</th>\n",
       "      <th>txn_date</th>\n",
       "      <th>txn_date_ym</th>\n",
       "      <th>amount_usd</th>\n",
       "    </tr>\n",
       "  </thead>\n",
       "  <tbody>\n",
       "    <tr>\n",
       "      <th>581</th>\n",
       "      <td>t20507</td>\n",
       "      <td>u4544</td>\n",
       "      <td>2022-04-30</td>\n",
       "      <td>2022-04</td>\n",
       "      <td>408.37</td>\n",
       "    </tr>\n",
       "    <tr>\n",
       "      <th>582</th>\n",
       "      <td>t20577</td>\n",
       "      <td>u1418</td>\n",
       "      <td>2022-04-30</td>\n",
       "      <td>2022-04</td>\n",
       "      <td>12.25</td>\n",
       "    </tr>\n",
       "    <tr>\n",
       "      <th>583</th>\n",
       "      <td>t20621</td>\n",
       "      <td>u3887</td>\n",
       "      <td>2022-04-30</td>\n",
       "      <td>2022-04</td>\n",
       "      <td>19.06</td>\n",
       "    </tr>\n",
       "    <tr>\n",
       "      <th>584</th>\n",
       "      <td>t20632</td>\n",
       "      <td>u4270</td>\n",
       "      <td>2022-04-30</td>\n",
       "      <td>2022-04</td>\n",
       "      <td>49.55</td>\n",
       "    </tr>\n",
       "    <tr>\n",
       "      <th>585</th>\n",
       "      <td>t20633</td>\n",
       "      <td>u4270</td>\n",
       "      <td>2022-04-30</td>\n",
       "      <td>2022-04</td>\n",
       "      <td>49.55</td>\n",
       "    </tr>\n",
       "  </tbody>\n",
       "</table>\n",
       "</div>"
      ],
      "text/plain": [
       "     txn_id user_id   txn_date txn_date_ym  amount_usd\n",
       "581  t20507   u4544 2022-04-30     2022-04      408.37\n",
       "582  t20577   u1418 2022-04-30     2022-04       12.25\n",
       "583  t20621   u3887 2022-04-30     2022-04       19.06\n",
       "584  t20632   u4270 2022-04-30     2022-04       49.55\n",
       "585  t20633   u4270 2022-04-30     2022-04       49.55"
      ]
     },
     "execution_count": 33,
     "metadata": {},
     "output_type": "execute_result"
    }
   ],
   "source": [
    "# Setting X and y split date\n",
    "co_final = co[(co['txn_date_ym'] >= '2022-01') & (co['txn_date_ym'] <= '2022-04')]\n",
    "co_final.head()"
   ]
  },
  {
   "cell_type": "code",
   "execution_count": 34,
   "id": "80be6b73-09fc-48af-bed6-512f2add925c",
   "metadata": {},
   "outputs": [
    {
     "data": {
      "text/plain": [
       "Timestamp('2022-03-31 00:00:00')"
      ]
     },
     "execution_count": 34,
     "metadata": {},
     "output_type": "execute_result"
    }
   ],
   "source": [
    "cutoff = co_final.txn_date.max() - pd.to_timedelta(30, unit='d')\n",
    "cutoff"
   ]
  },
  {
   "cell_type": "code",
   "execution_count": 35,
   "id": "867dd150-081a-4cd9-b8c4-d4d71250c173",
   "metadata": {},
   "outputs": [
    {
     "name": "stdout",
     "output_type": "stream",
     "text": [
      "X dataset split %: 0.94 \n",
      "y dataset split %: 0.06\n"
     ]
    }
   ],
   "source": [
    "# Splitting into X and y. first split, raw.\n",
    "x_raw = co_final[co_final['txn_date'] < cutoff]\n",
    "y_raw = co_final[co_final['txn_date'] >= cutoff]\n",
    "print('X dataset split %:', round(len(x_raw)/len(co_final), 2), '\\ny dataset split %:', round(len(y_raw)/len(co_final), 2))"
   ]
  },
  {
   "cell_type": "markdown",
   "id": "a5fe0c68-84c6-4255-901e-0df230f4fdea",
   "metadata": {},
   "source": [
    "#### Creating y true"
   ]
  },
  {
   "cell_type": "code",
   "execution_count": 36,
   "id": "6c8e084c-20ab-4bc4-877d-8f98931dd342",
   "metadata": {},
   "outputs": [
    {
     "data": {
      "text/html": [
       "<div>\n",
       "<style scoped>\n",
       "    .dataframe tbody tr th:only-of-type {\n",
       "        vertical-align: middle;\n",
       "    }\n",
       "\n",
       "    .dataframe tbody tr th {\n",
       "        vertical-align: top;\n",
       "    }\n",
       "\n",
       "    .dataframe thead th {\n",
       "        text-align: right;\n",
       "    }\n",
       "</style>\n",
       "<table border=\"1\" class=\"dataframe\">\n",
       "  <thead>\n",
       "    <tr style=\"text-align: right;\">\n",
       "      <th></th>\n",
       "      <th>true_amnt_spent</th>\n",
       "      <th>is_active</th>\n",
       "    </tr>\n",
       "    <tr>\n",
       "      <th>user_id</th>\n",
       "      <th></th>\n",
       "      <th></th>\n",
       "    </tr>\n",
       "  </thead>\n",
       "  <tbody>\n",
       "    <tr>\n",
       "      <th>u1140</th>\n",
       "      <td>27.22</td>\n",
       "      <td>1</td>\n",
       "    </tr>\n",
       "    <tr>\n",
       "      <th>u1418</th>\n",
       "      <td>168.79</td>\n",
       "      <td>1</td>\n",
       "    </tr>\n",
       "    <tr>\n",
       "      <th>u1753</th>\n",
       "      <td>5.44</td>\n",
       "      <td>1</td>\n",
       "    </tr>\n",
       "    <tr>\n",
       "      <th>u1805</th>\n",
       "      <td>1007.32</td>\n",
       "      <td>1</td>\n",
       "    </tr>\n",
       "    <tr>\n",
       "      <th>u2170</th>\n",
       "      <td>114.34</td>\n",
       "      <td>1</td>\n",
       "    </tr>\n",
       "  </tbody>\n",
       "</table>\n",
       "</div>"
      ],
      "text/plain": [
       "         true_amnt_spent  is_active\n",
       "user_id                            \n",
       "u1140              27.22          1\n",
       "u1418             168.79          1\n",
       "u1753               5.44          1\n",
       "u1805            1007.32          1\n",
       "u2170             114.34          1"
      ]
     },
     "execution_count": 36,
     "metadata": {},
     "output_type": "execute_result"
    }
   ],
   "source": [
    "# Users that were active the fourth month.\n",
    "def create_ytrue(df):\n",
    "    y = df.groupby('user_id')[['amount_usd']].sum().set_axis(['true_amnt_spent'], axis=1)\n",
    "    y['is_active'] = 1\n",
    "    return y\n",
    "\n",
    "y = create_ytrue(y_raw)\n",
    "y.head()"
   ]
  },
  {
   "cell_type": "markdown",
   "id": "7f16b687-d0ca-4718-a96a-3553e2b1c295",
   "metadata": {},
   "source": [
    "#### Feature Engineering"
   ]
  },
  {
   "cell_type": "markdown",
   "id": "2f8da988",
   "metadata": {},
   "source": [
    "**Recency**"
   ]
  },
  {
   "cell_type": "code",
   "execution_count": 37,
   "id": "8d36d687-cae9-484e-92b4-d8cd3d390d8b",
   "metadata": {},
   "outputs": [
    {
     "data": {
      "text/html": [
       "<div>\n",
       "<style scoped>\n",
       "    .dataframe tbody tr th:only-of-type {\n",
       "        vertical-align: middle;\n",
       "    }\n",
       "\n",
       "    .dataframe tbody tr th {\n",
       "        vertical-align: top;\n",
       "    }\n",
       "\n",
       "    .dataframe thead th {\n",
       "        text-align: right;\n",
       "    }\n",
       "</style>\n",
       "<table border=\"1\" class=\"dataframe\">\n",
       "  <thead>\n",
       "    <tr style=\"text-align: right;\">\n",
       "      <th></th>\n",
       "      <th>recency</th>\n",
       "    </tr>\n",
       "    <tr>\n",
       "      <th>user_id</th>\n",
       "      <th></th>\n",
       "    </tr>\n",
       "  </thead>\n",
       "  <tbody>\n",
       "    <tr>\n",
       "      <th>u1379</th>\n",
       "      <td>37</td>\n",
       "    </tr>\n",
       "    <tr>\n",
       "      <th>u1418</th>\n",
       "      <td>10</td>\n",
       "    </tr>\n",
       "    <tr>\n",
       "      <th>u1425</th>\n",
       "      <td>66</td>\n",
       "    </tr>\n",
       "    <tr>\n",
       "      <th>u1469</th>\n",
       "      <td>24</td>\n",
       "    </tr>\n",
       "    <tr>\n",
       "      <th>u1537</th>\n",
       "      <td>40</td>\n",
       "    </tr>\n",
       "  </tbody>\n",
       "</table>\n",
       "</div>"
      ],
      "text/plain": [
       "         recency\n",
       "user_id         \n",
       "u1379         37\n",
       "u1418         10\n",
       "u1425         66\n",
       "u1469         24\n",
       "u1537         40"
      ]
     },
     "execution_count": 37,
     "metadata": {},
     "output_type": "execute_result"
    }
   ],
   "source": [
    "def recency(df):\n",
    "    \n",
    "    def last_buy_days(x, compare_to):\n",
    "        val = compare_to - x.max()[1]\n",
    "        return val.days\n",
    "    \n",
    "    oldest_date = df.txn_date.max()\n",
    "    \n",
    "    grp = df.groupby('user_id')[['user_id', 'txn_date']].apply(lambda x: last_buy_days(x, oldest_date))\n",
    "    recency = grp.to_frame().set_axis(['recency'], axis=1)\n",
    "    return recency\n",
    "\n",
    "recency_df = recency(x_raw)\n",
    "recency_df.head()"
   ]
  },
  {
   "cell_type": "markdown",
   "id": "912b60ee",
   "metadata": {},
   "source": [
    "**Frequency**"
   ]
  },
  {
   "cell_type": "code",
   "execution_count": 38,
   "id": "06c02e5e-43b2-41b0-8525-91a3eb941b5d",
   "metadata": {},
   "outputs": [
    {
     "data": {
      "text/html": [
       "<div>\n",
       "<style scoped>\n",
       "    .dataframe tbody tr th:only-of-type {\n",
       "        vertical-align: middle;\n",
       "    }\n",
       "\n",
       "    .dataframe tbody tr th {\n",
       "        vertical-align: top;\n",
       "    }\n",
       "\n",
       "    .dataframe thead th {\n",
       "        text-align: right;\n",
       "    }\n",
       "</style>\n",
       "<table border=\"1\" class=\"dataframe\">\n",
       "  <thead>\n",
       "    <tr style=\"text-align: right;\">\n",
       "      <th></th>\n",
       "      <th>frequency</th>\n",
       "    </tr>\n",
       "    <tr>\n",
       "      <th>user_id</th>\n",
       "      <th></th>\n",
       "    </tr>\n",
       "  </thead>\n",
       "  <tbody>\n",
       "    <tr>\n",
       "      <th>u1379</th>\n",
       "      <td>5</td>\n",
       "    </tr>\n",
       "    <tr>\n",
       "      <th>u1418</th>\n",
       "      <td>11</td>\n",
       "    </tr>\n",
       "    <tr>\n",
       "      <th>u1425</th>\n",
       "      <td>2</td>\n",
       "    </tr>\n",
       "    <tr>\n",
       "      <th>u1469</th>\n",
       "      <td>2</td>\n",
       "    </tr>\n",
       "    <tr>\n",
       "      <th>u1537</th>\n",
       "      <td>2</td>\n",
       "    </tr>\n",
       "  </tbody>\n",
       "</table>\n",
       "</div>"
      ],
      "text/plain": [
       "         frequency\n",
       "user_id           \n",
       "u1379            5\n",
       "u1418           11\n",
       "u1425            2\n",
       "u1469            2\n",
       "u1537            2"
      ]
     },
     "execution_count": 38,
     "metadata": {},
     "output_type": "execute_result"
    }
   ],
   "source": [
    "def frequency(df):\n",
    "    return df.groupby('user_id')['txn_date'].count().to_frame().set_axis(['frequency'], axis=1)\n",
    "                                                                         \n",
    "frequency_df = frequency(x_raw)\n",
    "frequency_df.head()"
   ]
  },
  {
   "cell_type": "markdown",
   "id": "58bd17c3",
   "metadata": {},
   "source": [
    "**Monetary Value**"
   ]
  },
  {
   "cell_type": "code",
   "execution_count": 39,
   "id": "f7c9e836-a4b4-4807-b4fa-88e441c2f658",
   "metadata": {},
   "outputs": [
    {
     "data": {
      "text/html": [
       "<div>\n",
       "<style scoped>\n",
       "    .dataframe tbody tr th:only-of-type {\n",
       "        vertical-align: middle;\n",
       "    }\n",
       "\n",
       "    .dataframe tbody tr th {\n",
       "        vertical-align: top;\n",
       "    }\n",
       "\n",
       "    .dataframe thead th {\n",
       "        text-align: right;\n",
       "    }\n",
       "</style>\n",
       "<table border=\"1\" class=\"dataframe\">\n",
       "  <thead>\n",
       "    <tr style=\"text-align: right;\">\n",
       "      <th></th>\n",
       "      <th>price_sum</th>\n",
       "      <th>price_mean</th>\n",
       "    </tr>\n",
       "    <tr>\n",
       "      <th>user_id</th>\n",
       "      <th></th>\n",
       "      <th></th>\n",
       "    </tr>\n",
       "  </thead>\n",
       "  <tbody>\n",
       "    <tr>\n",
       "      <th>u1379</th>\n",
       "      <td>727.18</td>\n",
       "      <td>145.436000</td>\n",
       "    </tr>\n",
       "    <tr>\n",
       "      <th>u1418</th>\n",
       "      <td>169.86</td>\n",
       "      <td>15.441818</td>\n",
       "    </tr>\n",
       "    <tr>\n",
       "      <th>u1425</th>\n",
       "      <td>83.31</td>\n",
       "      <td>41.655000</td>\n",
       "    </tr>\n",
       "    <tr>\n",
       "      <th>u1469</th>\n",
       "      <td>13.61</td>\n",
       "      <td>6.805000</td>\n",
       "    </tr>\n",
       "    <tr>\n",
       "      <th>u1537</th>\n",
       "      <td>32.66</td>\n",
       "      <td>16.330000</td>\n",
       "    </tr>\n",
       "  </tbody>\n",
       "</table>\n",
       "</div>"
      ],
      "text/plain": [
       "         price_sum  price_mean\n",
       "user_id                       \n",
       "u1379       727.18  145.436000\n",
       "u1418       169.86   15.441818\n",
       "u1425        83.31   41.655000\n",
       "u1469        13.61    6.805000\n",
       "u1537        32.66   16.330000"
      ]
     },
     "execution_count": 39,
     "metadata": {},
     "output_type": "execute_result"
    }
   ],
   "source": [
    "def monetary_value(df):\n",
    "    return df.groupby('user_id')[['amount_usd']].agg(['sum', 'mean']).set_axis(['price_sum', 'price_mean'], axis=1)\n",
    "\n",
    "mv_df = monetary_value(x_raw)\n",
    "mv_df.head()"
   ]
  },
  {
   "cell_type": "markdown",
   "id": "90d84cb9",
   "metadata": {},
   "source": [
    "**Average Time between Orders**"
   ]
  },
  {
   "cell_type": "code",
   "execution_count": 40,
   "id": "a57b0a42",
   "metadata": {},
   "outputs": [
    {
     "data": {
      "text/html": [
       "<div>\n",
       "<style scoped>\n",
       "    .dataframe tbody tr th:only-of-type {\n",
       "        vertical-align: middle;\n",
       "    }\n",
       "\n",
       "    .dataframe tbody tr th {\n",
       "        vertical-align: top;\n",
       "    }\n",
       "\n",
       "    .dataframe thead th {\n",
       "        text-align: right;\n",
       "    }\n",
       "</style>\n",
       "<table border=\"1\" class=\"dataframe\">\n",
       "  <thead>\n",
       "    <tr style=\"text-align: right;\">\n",
       "      <th></th>\n",
       "      <th>avg_time_buy</th>\n",
       "    </tr>\n",
       "    <tr>\n",
       "      <th>user_id</th>\n",
       "      <th></th>\n",
       "    </tr>\n",
       "  </thead>\n",
       "  <tbody>\n",
       "    <tr>\n",
       "      <th>u1379</th>\n",
       "      <td>5</td>\n",
       "    </tr>\n",
       "    <tr>\n",
       "      <th>u1418</th>\n",
       "      <td>6</td>\n",
       "    </tr>\n",
       "    <tr>\n",
       "      <th>u1425</th>\n",
       "      <td>7</td>\n",
       "    </tr>\n",
       "    <tr>\n",
       "      <th>u1469</th>\n",
       "      <td>18</td>\n",
       "    </tr>\n",
       "    <tr>\n",
       "      <th>u1537</th>\n",
       "      <td>13</td>\n",
       "    </tr>\n",
       "  </tbody>\n",
       "</table>\n",
       "</div>"
      ],
      "text/plain": [
       "         avg_time_buy\n",
       "user_id              \n",
       "u1379               5\n",
       "u1418               6\n",
       "u1425               7\n",
       "u1469              18\n",
       "u1537              13"
      ]
     },
     "execution_count": 40,
     "metadata": {},
     "output_type": "execute_result"
    }
   ],
   "source": [
    "def avg_time_orders(df):\n",
    "    df = df.groupby('user_id').agg(first_order=('txn_date', 'min'), \n",
    "                                   last_order=('txn_date', 'max'), \n",
    "                                   n_orders=('txn_id', 'count'))\n",
    "    \n",
    "    df['days_diff'] = (df['last_order'] - df['first_order']).dt.days\n",
    "    df['avg_time_buy'] = (df['days_diff'] / df['n_orders']).apply(lambda x: math.ceil(x))\n",
    "    return df[['avg_time_buy']]\n",
    "\n",
    "avg_time_buy_df = avg_time_orders(x_raw)\n",
    "avg_time_buy_df.head()"
   ]
  },
  {
   "cell_type": "code",
   "execution_count": 41,
   "id": "92180d7d-44f1-46da-9085-25d074b0f6e8",
   "metadata": {},
   "outputs": [
    {
     "data": {
      "text/html": [
       "<div>\n",
       "<style scoped>\n",
       "    .dataframe tbody tr th:only-of-type {\n",
       "        vertical-align: middle;\n",
       "    }\n",
       "\n",
       "    .dataframe tbody tr th {\n",
       "        vertical-align: top;\n",
       "    }\n",
       "\n",
       "    .dataframe thead th {\n",
       "        text-align: right;\n",
       "    }\n",
       "</style>\n",
       "<table border=\"1\" class=\"dataframe\">\n",
       "  <thead>\n",
       "    <tr style=\"text-align: right;\">\n",
       "      <th></th>\n",
       "      <th>recency</th>\n",
       "      <th>frequency</th>\n",
       "      <th>price_sum</th>\n",
       "      <th>price_mean</th>\n",
       "      <th>avg_time_buy</th>\n",
       "    </tr>\n",
       "    <tr>\n",
       "      <th>user_id</th>\n",
       "      <th></th>\n",
       "      <th></th>\n",
       "      <th></th>\n",
       "      <th></th>\n",
       "      <th></th>\n",
       "    </tr>\n",
       "  </thead>\n",
       "  <tbody>\n",
       "    <tr>\n",
       "      <th>u1379</th>\n",
       "      <td>37</td>\n",
       "      <td>5</td>\n",
       "      <td>727.18</td>\n",
       "      <td>145.436000</td>\n",
       "      <td>5</td>\n",
       "    </tr>\n",
       "    <tr>\n",
       "      <th>u1418</th>\n",
       "      <td>10</td>\n",
       "      <td>11</td>\n",
       "      <td>169.86</td>\n",
       "      <td>15.441818</td>\n",
       "      <td>6</td>\n",
       "    </tr>\n",
       "    <tr>\n",
       "      <th>u1425</th>\n",
       "      <td>66</td>\n",
       "      <td>2</td>\n",
       "      <td>83.31</td>\n",
       "      <td>41.655000</td>\n",
       "      <td>7</td>\n",
       "    </tr>\n",
       "    <tr>\n",
       "      <th>u1469</th>\n",
       "      <td>24</td>\n",
       "      <td>2</td>\n",
       "      <td>13.61</td>\n",
       "      <td>6.805000</td>\n",
       "      <td>18</td>\n",
       "    </tr>\n",
       "    <tr>\n",
       "      <th>u1537</th>\n",
       "      <td>40</td>\n",
       "      <td>2</td>\n",
       "      <td>32.66</td>\n",
       "      <td>16.330000</td>\n",
       "      <td>13</td>\n",
       "    </tr>\n",
       "  </tbody>\n",
       "</table>\n",
       "</div>"
      ],
      "text/plain": [
       "         recency  frequency  price_sum  price_mean  avg_time_buy\n",
       "user_id                                                         \n",
       "u1379         37          5     727.18  145.436000             5\n",
       "u1418         10         11     169.86   15.441818             6\n",
       "u1425         66          2      83.31   41.655000             7\n",
       "u1469         24          2      13.61    6.805000            18\n",
       "u1537         40          2      32.66   16.330000            13"
      ]
     },
     "execution_count": 41,
     "metadata": {},
     "output_type": "execute_result"
    }
   ],
   "source": [
    "# Merging X datasets\n",
    "\n",
    "def df_merger(dfs):\n",
    "    return pd.concat(dfs, axis=1)\n",
    "\n",
    "x = df_merger([recency_df, frequency_df, mv_df, avg_time_buy_df])\n",
    "x.head()"
   ]
  },
  {
   "cell_type": "markdown",
   "id": "f26c5127",
   "metadata": {},
   "source": [
    "#### Joining X and y into one single dataset"
   ]
  },
  {
   "cell_type": "code",
   "execution_count": 42,
   "id": "22060b81-7651-4388-b637-0e9f2fcbcc9f",
   "metadata": {},
   "outputs": [
    {
     "data": {
      "text/html": [
       "<div>\n",
       "<style scoped>\n",
       "    .dataframe tbody tr th:only-of-type {\n",
       "        vertical-align: middle;\n",
       "    }\n",
       "\n",
       "    .dataframe tbody tr th {\n",
       "        vertical-align: top;\n",
       "    }\n",
       "\n",
       "    .dataframe thead th {\n",
       "        text-align: right;\n",
       "    }\n",
       "</style>\n",
       "<table border=\"1\" class=\"dataframe\">\n",
       "  <thead>\n",
       "    <tr style=\"text-align: right;\">\n",
       "      <th></th>\n",
       "      <th>recency</th>\n",
       "      <th>frequency</th>\n",
       "      <th>price_sum</th>\n",
       "      <th>price_mean</th>\n",
       "      <th>avg_time_buy</th>\n",
       "      <th>true_amnt_spent</th>\n",
       "      <th>is_active</th>\n",
       "    </tr>\n",
       "    <tr>\n",
       "      <th>user_id</th>\n",
       "      <th></th>\n",
       "      <th></th>\n",
       "      <th></th>\n",
       "      <th></th>\n",
       "      <th></th>\n",
       "      <th></th>\n",
       "      <th></th>\n",
       "    </tr>\n",
       "  </thead>\n",
       "  <tbody>\n",
       "    <tr>\n",
       "      <th>u1379</th>\n",
       "      <td>37</td>\n",
       "      <td>5</td>\n",
       "      <td>727.18</td>\n",
       "      <td>145.436000</td>\n",
       "      <td>5</td>\n",
       "      <td>0.00</td>\n",
       "      <td>0.0</td>\n",
       "    </tr>\n",
       "    <tr>\n",
       "      <th>u1418</th>\n",
       "      <td>10</td>\n",
       "      <td>11</td>\n",
       "      <td>169.86</td>\n",
       "      <td>15.441818</td>\n",
       "      <td>6</td>\n",
       "      <td>168.79</td>\n",
       "      <td>1.0</td>\n",
       "    </tr>\n",
       "    <tr>\n",
       "      <th>u1425</th>\n",
       "      <td>66</td>\n",
       "      <td>2</td>\n",
       "      <td>83.31</td>\n",
       "      <td>41.655000</td>\n",
       "      <td>7</td>\n",
       "      <td>0.00</td>\n",
       "      <td>0.0</td>\n",
       "    </tr>\n",
       "    <tr>\n",
       "      <th>u1469</th>\n",
       "      <td>24</td>\n",
       "      <td>2</td>\n",
       "      <td>13.61</td>\n",
       "      <td>6.805000</td>\n",
       "      <td>18</td>\n",
       "      <td>0.00</td>\n",
       "      <td>0.0</td>\n",
       "    </tr>\n",
       "    <tr>\n",
       "      <th>u1537</th>\n",
       "      <td>40</td>\n",
       "      <td>2</td>\n",
       "      <td>32.66</td>\n",
       "      <td>16.330000</td>\n",
       "      <td>13</td>\n",
       "      <td>0.00</td>\n",
       "      <td>0.0</td>\n",
       "    </tr>\n",
       "  </tbody>\n",
       "</table>\n",
       "</div>"
      ],
      "text/plain": [
       "         recency  frequency  price_sum  price_mean  avg_time_buy  \\\n",
       "user_id                                                            \n",
       "u1379         37          5     727.18  145.436000             5   \n",
       "u1418         10         11     169.86   15.441818             6   \n",
       "u1425         66          2      83.31   41.655000             7   \n",
       "u1469         24          2      13.61    6.805000            18   \n",
       "u1537         40          2      32.66   16.330000            13   \n",
       "\n",
       "         true_amnt_spent  is_active  \n",
       "user_id                              \n",
       "u1379               0.00        0.0  \n",
       "u1418             168.79        1.0  \n",
       "u1425               0.00        0.0  \n",
       "u1469               0.00        0.0  \n",
       "u1537               0.00        0.0  "
      ]
     },
     "execution_count": 42,
     "metadata": {},
     "output_type": "execute_result"
    }
   ],
   "source": [
    "xy = x.join(y, how='left').fillna(0)\n",
    "xy.head()"
   ]
  },
  {
   "cell_type": "code",
   "execution_count": 43,
   "id": "e27e47a5-3b27-4c83-b94b-8311d817c3ad",
   "metadata": {},
   "outputs": [
    {
     "data": {
      "text/html": [
       "<div>\n",
       "<style scoped>\n",
       "    .dataframe tbody tr th:only-of-type {\n",
       "        vertical-align: middle;\n",
       "    }\n",
       "\n",
       "    .dataframe tbody tr th {\n",
       "        vertical-align: top;\n",
       "    }\n",
       "\n",
       "    .dataframe thead th {\n",
       "        text-align: right;\n",
       "    }\n",
       "</style>\n",
       "<table border=\"1\" class=\"dataframe\">\n",
       "  <thead>\n",
       "    <tr style=\"text-align: right;\">\n",
       "      <th></th>\n",
       "      <th>recency</th>\n",
       "      <th>frequency</th>\n",
       "      <th>price_sum</th>\n",
       "      <th>price_mean</th>\n",
       "      <th>avg_time_buy</th>\n",
       "    </tr>\n",
       "    <tr>\n",
       "      <th>user_id</th>\n",
       "      <th></th>\n",
       "      <th></th>\n",
       "      <th></th>\n",
       "      <th></th>\n",
       "      <th></th>\n",
       "    </tr>\n",
       "  </thead>\n",
       "  <tbody>\n",
       "    <tr>\n",
       "      <th>u1379</th>\n",
       "      <td>37</td>\n",
       "      <td>5</td>\n",
       "      <td>727.18</td>\n",
       "      <td>145.436000</td>\n",
       "      <td>5</td>\n",
       "    </tr>\n",
       "    <tr>\n",
       "      <th>u1418</th>\n",
       "      <td>10</td>\n",
       "      <td>11</td>\n",
       "      <td>169.86</td>\n",
       "      <td>15.441818</td>\n",
       "      <td>6</td>\n",
       "    </tr>\n",
       "    <tr>\n",
       "      <th>u1425</th>\n",
       "      <td>66</td>\n",
       "      <td>2</td>\n",
       "      <td>83.31</td>\n",
       "      <td>41.655000</td>\n",
       "      <td>7</td>\n",
       "    </tr>\n",
       "    <tr>\n",
       "      <th>u1469</th>\n",
       "      <td>24</td>\n",
       "      <td>2</td>\n",
       "      <td>13.61</td>\n",
       "      <td>6.805000</td>\n",
       "      <td>18</td>\n",
       "    </tr>\n",
       "    <tr>\n",
       "      <th>u1537</th>\n",
       "      <td>40</td>\n",
       "      <td>2</td>\n",
       "      <td>32.66</td>\n",
       "      <td>16.330000</td>\n",
       "      <td>13</td>\n",
       "    </tr>\n",
       "  </tbody>\n",
       "</table>\n",
       "</div>"
      ],
      "text/plain": [
       "         recency  frequency  price_sum  price_mean  avg_time_buy\n",
       "user_id                                                         \n",
       "u1379         37          5     727.18  145.436000             5\n",
       "u1418         10         11     169.86   15.441818             6\n",
       "u1425         66          2      83.31   41.655000             7\n",
       "u1469         24          2      13.61    6.805000            18\n",
       "u1537         40          2      32.66   16.330000            13"
      ]
     },
     "execution_count": 43,
     "metadata": {},
     "output_type": "execute_result"
    }
   ],
   "source": [
    "x = xy[['recency', 'frequency', 'price_sum', 'price_mean', 'avg_time_buy']]\n",
    "x.head()"
   ]
  },
  {
   "cell_type": "code",
   "execution_count": 44,
   "id": "c8aedc5a",
   "metadata": {},
   "outputs": [
    {
     "data": {
      "text/plain": [
       "user_id\n",
       "u1379    0.0\n",
       "u1418    1.0\n",
       "u1425    0.0\n",
       "u1469    0.0\n",
       "u1537    0.0\n",
       "Name: is_active, dtype: float64"
      ]
     },
     "execution_count": 44,
     "metadata": {},
     "output_type": "execute_result"
    }
   ],
   "source": [
    "y_reg = xy['true_amnt_spent']\n",
    "y_cls = xy['is_active']\n",
    "y_cls.head()"
   ]
  },
  {
   "cell_type": "markdown",
   "id": "39349005",
   "metadata": {},
   "source": [
    "#### Train Test Split"
   ]
  },
  {
   "cell_type": "code",
   "execution_count": 45,
   "id": "9d8a6d54",
   "metadata": {},
   "outputs": [
    {
     "name": "stdout",
     "output_type": "stream",
     "text": [
      "Train dataset size: 892\n",
      "Test dataset size: 224\n"
     ]
    }
   ],
   "source": [
    "x_train_reg, x_test_reg, y_train_reg, y_test_reg = train_test_split(x, y_reg, test_size=0.2, random_state=42)\n",
    "x_train_cls, x_test_cls, y_train_cls, y_test_cls = train_test_split(x, y_cls, test_size=0.2, random_state=42)\n",
    "\n",
    "print(f'Train dataset size: {len(x_train_cls)}\\nTest dataset size: {len(x_test_cls)}')"
   ]
  },
  {
   "cell_type": "markdown",
   "id": "7dc10d4a",
   "metadata": {},
   "source": [
    "#### Training model and testing"
   ]
  },
  {
   "cell_type": "markdown",
   "id": "f20e024c",
   "metadata": {},
   "source": [
    "**Train Data test**"
   ]
  },
  {
   "cell_type": "code",
   "execution_count": 147,
   "id": "04fe0835",
   "metadata": {},
   "outputs": [
    {
     "data": {
      "text/plain": [
       "0.9955156950672646"
      ]
     },
     "execution_count": 147,
     "metadata": {},
     "output_type": "execute_result"
    }
   ],
   "source": [
    "model = RandomForestClassifier(random_state=42)\n",
    "\n",
    "model.fit(x_train_cls, y_train_cls)\n",
    "y_pred = pd.DataFrame(model.predict(x_train_cls), columns=['y_pred'])\n",
    "\n",
    "y_true = pd.DataFrame(y_train_cls.values, columns=['y_true'])\n",
    "\n",
    "accuracy_score(y_true['y_true'], y_pred['y_pred'])"
   ]
  },
  {
   "cell_type": "markdown",
   "id": "554113be",
   "metadata": {},
   "source": [
    "**Test Data test**"
   ]
  },
  {
   "cell_type": "code",
   "execution_count": 148,
   "id": "695e7fa0",
   "metadata": {},
   "outputs": [
    {
     "data": {
      "text/plain": [
       "0.9017857142857143"
      ]
     },
     "execution_count": 148,
     "metadata": {},
     "output_type": "execute_result"
    }
   ],
   "source": [
    "model = RandomForestClassifier(random_state=42)\n",
    "\n",
    "model.fit(x_train_cls, y_train_cls)\n",
    "y_pred = pd.DataFrame(model.predict(x_test_cls), columns=['y_pred'])\n",
    "\n",
    "y_true = pd.DataFrame(y_test_cls.values, columns=['y_true'])\n",
    "\n",
    "accuracy_score(y_true['y_true'], y_pred['y_pred'])"
   ]
  },
  {
   "cell_type": "markdown",
   "id": "d298d14c",
   "metadata": {},
   "source": [
    "#### Final Model"
   ]
  },
  {
   "cell_type": "markdown",
   "id": "ca059404",
   "metadata": {},
   "source": [
    "Since our accuracy score has been met (higher than 85%), we proceed to train the model using an X that takes all users and transactions from the 3 first months and y with transactions and users from the 4th month. Once trained, we will predict and X that takes all users from the first 4 months.\n",
    "\n",
    "We will compare this prediction to what the users really did in the fourth month."
   ]
  },
  {
   "cell_type": "code",
   "execution_count": 149,
   "id": "9635b415",
   "metadata": {},
   "outputs": [
    {
     "data": {
      "text/plain": [
       "RandomForestClassifier(random_state=42)"
      ]
     },
     "execution_count": 149,
     "metadata": {},
     "output_type": "execute_result"
    }
   ],
   "source": [
    "# Setting model hyperparameters and fitting.\n",
    "model = RandomForestClassifier(random_state=42)\n",
    "\n",
    "model.fit(x, y_cls)"
   ]
  },
  {
   "cell_type": "code",
   "execution_count": 150,
   "id": "a3603e5c",
   "metadata": {},
   "outputs": [],
   "source": [
    "# Predicting 4th month behaviour.\n",
    "\n",
    "a = recency(co_final)\n",
    "b = frequency(co_final)\n",
    "c = monetary_value(co_final)\n",
    "d = avg_time_orders(co_final)\n",
    "\n",
    "to_pred = df_merger([a,b,c,d])\n",
    "pred = model.predict(to_pred)\n",
    "\n",
    "forecast = pd.DataFrame(zip(to_pred.index, pred), columns=['user_id', 'y_pred'])\n",
    "\n",
    "y_pred_true = pd.merge(forecast, y_cls.to_frame().reset_index(drop=False), on='user_id', how='outer')\n",
    "\n",
    "#NaN means that their first order was in the fourth month\n",
    "y_pred_true.fillna(1, inplace=True)"
   ]
  },
  {
   "cell_type": "code",
   "execution_count": 206,
   "id": "a3efadeb-9279-4619-b449-54dc7f5a23a9",
   "metadata": {},
   "outputs": [
    {
     "data": {
      "text/html": [
       "<div>\n",
       "<style scoped>\n",
       "    .dataframe tbody tr th:only-of-type {\n",
       "        vertical-align: middle;\n",
       "    }\n",
       "\n",
       "    .dataframe tbody tr th {\n",
       "        vertical-align: top;\n",
       "    }\n",
       "\n",
       "    .dataframe thead th {\n",
       "        text-align: right;\n",
       "    }\n",
       "</style>\n",
       "<table border=\"1\" class=\"dataframe\">\n",
       "  <thead>\n",
       "    <tr style=\"text-align: right;\">\n",
       "      <th>Parameter</th>\n",
       "      <th>bootstrap</th>\n",
       "      <th>ccp_alpha</th>\n",
       "      <th>class_weight</th>\n",
       "      <th>criterion</th>\n",
       "      <th>max_depth</th>\n",
       "      <th>max_features</th>\n",
       "      <th>max_leaf_nodes</th>\n",
       "      <th>max_samples</th>\n",
       "      <th>min_impurity_decrease</th>\n",
       "      <th>min_samples_leaf</th>\n",
       "      <th>min_samples_split</th>\n",
       "      <th>min_weight_fraction_leaf</th>\n",
       "      <th>n_estimators</th>\n",
       "      <th>n_jobs</th>\n",
       "      <th>oob_score</th>\n",
       "      <th>random_state</th>\n",
       "      <th>verbose</th>\n",
       "      <th>warm_start</th>\n",
       "    </tr>\n",
       "  </thead>\n",
       "  <tbody>\n",
       "    <tr>\n",
       "      <th>Value</th>\n",
       "      <td>True</td>\n",
       "      <td>0.0</td>\n",
       "      <td>None</td>\n",
       "      <td>gini</td>\n",
       "      <td>None</td>\n",
       "      <td>auto</td>\n",
       "      <td>None</td>\n",
       "      <td>None</td>\n",
       "      <td>0.0</td>\n",
       "      <td>1</td>\n",
       "      <td>2</td>\n",
       "      <td>0.0</td>\n",
       "      <td>100</td>\n",
       "      <td>None</td>\n",
       "      <td>False</td>\n",
       "      <td>None</td>\n",
       "      <td>0</td>\n",
       "      <td>False</td>\n",
       "    </tr>\n",
       "  </tbody>\n",
       "</table>\n",
       "</div>"
      ],
      "text/plain": [
       "Parameter bootstrap ccp_alpha class_weight criterion max_depth max_features  \\\n",
       "Value          True       0.0         None      gini      None         auto   \n",
       "\n",
       "Parameter max_leaf_nodes max_samples min_impurity_decrease min_samples_leaf  \\\n",
       "Value               None        None                   0.0                1   \n",
       "\n",
       "Parameter min_samples_split min_weight_fraction_leaf n_estimators n_jobs  \\\n",
       "Value                     2                      0.0          100   None   \n",
       "\n",
       "Parameter oob_score random_state verbose warm_start  \n",
       "Value         False         None       0      False  "
      ]
     },
     "execution_count": 206,
     "metadata": {},
     "output_type": "execute_result"
    }
   ],
   "source": [
    "data=list(model.get_params().values())\n",
    "cols=list(model.get_params().keys())\n",
    "pd.DataFrame(data=list(zip(data, cols)), columns=['Value', 'Parameter']).set_index('Parameter').T"
   ]
  },
  {
   "cell_type": "code",
   "execution_count": 151,
   "id": "bc3a24b0",
   "metadata": {},
   "outputs": [
    {
     "data": {
      "text/plain": [
       "0.9187772925764193"
      ]
     },
     "execution_count": 151,
     "metadata": {},
     "output_type": "execute_result"
    }
   ],
   "source": [
    "# Checking prediction accuracy, should be similar to what we previously got.\n",
    "y_pred_true['reality_check'] = y_pred_true.apply(lambda x: True if x['y_pred'] == x['is_active'] else False, axis=1)\n",
    "y_pred_true['reality_check'].sum() / len(y_pred_true)"
   ]
  },
  {
   "cell_type": "code",
   "execution_count": 152,
   "id": "87579d3d",
   "metadata": {},
   "outputs": [],
   "source": [
    "final = pd.merge(to_pred.reset_index(drop=False), y_pred_true, on='user_id', how='left')"
   ]
  },
  {
   "cell_type": "code",
   "execution_count": 153,
   "id": "d03d9c02",
   "metadata": {},
   "outputs": [
    {
     "data": {
      "text/html": [
       "<div>\n",
       "<style scoped>\n",
       "    .dataframe tbody tr th:only-of-type {\n",
       "        vertical-align: middle;\n",
       "    }\n",
       "\n",
       "    .dataframe tbody tr th {\n",
       "        vertical-align: top;\n",
       "    }\n",
       "\n",
       "    .dataframe thead th {\n",
       "        text-align: right;\n",
       "    }\n",
       "</style>\n",
       "<table border=\"1\" class=\"dataframe\">\n",
       "  <thead>\n",
       "    <tr style=\"text-align: right;\">\n",
       "      <th></th>\n",
       "      <th>user_id</th>\n",
       "      <th>recency</th>\n",
       "      <th>frequency</th>\n",
       "      <th>price_sum</th>\n",
       "      <th>price_mean</th>\n",
       "      <th>avg_time_buy</th>\n",
       "      <th>y_pred</th>\n",
       "      <th>is_active</th>\n",
       "      <th>reality_check</th>\n",
       "    </tr>\n",
       "  </thead>\n",
       "  <tbody>\n",
       "    <tr>\n",
       "      <th>0</th>\n",
       "      <td>u1140</td>\n",
       "      <td>3</td>\n",
       "      <td>1</td>\n",
       "      <td>27.22</td>\n",
       "      <td>27.220</td>\n",
       "      <td>0</td>\n",
       "      <td>0.0</td>\n",
       "      <td>1.0</td>\n",
       "      <td>False</td>\n",
       "    </tr>\n",
       "    <tr>\n",
       "      <th>1</th>\n",
       "      <td>u1379</td>\n",
       "      <td>68</td>\n",
       "      <td>5</td>\n",
       "      <td>727.18</td>\n",
       "      <td>145.436</td>\n",
       "      <td>5</td>\n",
       "      <td>0.0</td>\n",
       "      <td>0.0</td>\n",
       "      <td>True</td>\n",
       "    </tr>\n",
       "    <tr>\n",
       "      <th>2</th>\n",
       "      <td>u1418</td>\n",
       "      <td>0</td>\n",
       "      <td>13</td>\n",
       "      <td>338.65</td>\n",
       "      <td>26.050</td>\n",
       "      <td>8</td>\n",
       "      <td>1.0</td>\n",
       "      <td>1.0</td>\n",
       "      <td>True</td>\n",
       "    </tr>\n",
       "    <tr>\n",
       "      <th>3</th>\n",
       "      <td>u1425</td>\n",
       "      <td>97</td>\n",
       "      <td>2</td>\n",
       "      <td>83.31</td>\n",
       "      <td>41.655</td>\n",
       "      <td>7</td>\n",
       "      <td>0.0</td>\n",
       "      <td>0.0</td>\n",
       "      <td>True</td>\n",
       "    </tr>\n",
       "    <tr>\n",
       "      <th>4</th>\n",
       "      <td>u1469</td>\n",
       "      <td>55</td>\n",
       "      <td>2</td>\n",
       "      <td>13.61</td>\n",
       "      <td>6.805</td>\n",
       "      <td>18</td>\n",
       "      <td>0.0</td>\n",
       "      <td>0.0</td>\n",
       "      <td>True</td>\n",
       "    </tr>\n",
       "  </tbody>\n",
       "</table>\n",
       "</div>"
      ],
      "text/plain": [
       "  user_id  recency  frequency  price_sum  price_mean  avg_time_buy  y_pred  \\\n",
       "0   u1140        3          1      27.22      27.220             0     0.0   \n",
       "1   u1379       68          5     727.18     145.436             5     0.0   \n",
       "2   u1418        0         13     338.65      26.050             8     1.0   \n",
       "3   u1425       97          2      83.31      41.655             7     0.0   \n",
       "4   u1469       55          2      13.61       6.805            18     0.0   \n",
       "\n",
       "   is_active  reality_check  \n",
       "0        1.0          False  \n",
       "1        0.0           True  \n",
       "2        1.0           True  \n",
       "3        0.0           True  \n",
       "4        0.0           True  "
      ]
     },
     "execution_count": 153,
     "metadata": {},
     "output_type": "execute_result"
    }
   ],
   "source": [
    "final.head()"
   ]
  },
  {
   "cell_type": "markdown",
   "id": "630287a7-9fb9-40c3-8ceb-1d78148278e5",
   "metadata": {},
   "source": [
    "### Feature Importance"
   ]
  },
  {
   "cell_type": "code",
   "execution_count": 154,
   "id": "9a035103-d25a-47a3-8c22-46415f04de54",
   "metadata": {},
   "outputs": [
    {
     "data": {
      "image/png": "[encoded data removed]",
      "text/plain": [
       "<Figure size 600x400 with 1 Axes>"
      ]
     },
     "metadata": {},
     "output_type": "display_data"
    }
   ],
   "source": [
    "importances = model.feature_importances_\n",
    "\n",
    "std = np.std([tree.feature_importances_ for tree in model.estimators_], axis=0)\n",
    "\n",
    "forest_importances = pd.Series(importances, index=x.columns)\n",
    "\n",
    "fig, ax = plt.subplots(figsize=(6,4))\n",
    "forest_importances.plot.bar(yerr=std, ax=ax)\n",
    "ax.set_title(\"Feature importances using MDI\")\n",
    "ax.set_ylabel(\"Mean Decrease in Impurity\")\n",
    "fig.tight_layout()"
   ]
  },
  {
   "cell_type": "markdown",
   "id": "5f32633e-f723-4cfe-b7e6-525e9f0adc6d",
   "metadata": {},
   "source": [
    "### Model Tuning\n",
    "\n",
    "There are many hyperparameters to tune, however, the most important are:\n",
    "- `n_estimators`: Number of trees in the forest. Ideally you should be choosing a large number, the more trees the better it fits the data, however, it comes with the cost of increasing computational time.\n",
    "- `criterion`: How the forest should be generated. How to split the data. When it comes to Classification problems we could choose between Gini or Entropy and for Regression problems we have MAE or MSE. There is no rule of thumb when choosing one over the other, just try them all out and stick with the one that works best. Gini is faster since it does not compute any logarithm.\n",
    "- `max_depth`: How deep individual trees are. The deeper the better, however, you might still run into overfitting your model. If None, then nodes are expanded until all leaves are pure or until all leaves contain less than min_samples_split samples.\n",
    "- `max_features`: Number of random features considered at each split. This is the most important feature to tune. A small value, fewer features considered when splitting at each node, will reduce the variance of the ensemble, at the cost of higher individual tree bias. A higher number, on the other hand, tends to decrease the bias of the model at the cost of increased variance. Also, there is a decrease in training speed since there are more features to be considered."
   ]
  },
  {
   "cell_type": "code",
   "execution_count": 160,
   "id": "42786513-35dc-42ba-b37e-229cb1ca3e00",
   "metadata": {},
   "outputs": [],
   "source": [
    "parameters = {'n_estimators': [4, 8, 16, 32, 64, 100], \n",
    "              'criterion': ['gini'], \n",
    "              'max_depth': [16, 32, 64, 128, None], \n",
    "              'max_features': [0.022, 0.023, 0.024, 'auto']}"
   ]
  },
  {
   "cell_type": "code",
   "execution_count": 161,
   "id": "f495831c-1248-425d-895c-29fb4be37c93",
   "metadata": {},
   "outputs": [],
   "source": [
    "model = RandomForestClassifier()\n",
    "grid_search = GridSearchCV(estimator=model, param_grid=parameters, scoring='accuracy', cv=5, n_jobs=-1, verbose=1)"
   ]
  },
  {
   "cell_type": "code",
   "execution_count": 162,
   "id": "d8900055-6237-4fe7-ae21-f334d0bb7639",
   "metadata": {},
   "outputs": [
    {
     "name": "stdout",
     "output_type": "stream",
     "text": [
      "Fitting 5 folds for each of 120 candidates, totalling 600 fits\n"
     ]
    }
   ],
   "source": [
    "grid_search = grid_search.fit(x, y_cls)"
   ]
  },
  {
   "cell_type": "code",
   "execution_count": 163,
   "id": "d3f0f90d-4c7a-4530-a37c-e728c5732cfd",
   "metadata": {},
   "outputs": [
    {
     "name": "stdout",
     "output_type": "stream",
     "text": [
      "0.8550368353619475 {'criterion': 'gini', 'max_depth': 64, 'max_features': 0.024, 'n_estimators': 4}\n"
     ]
    }
   ],
   "source": [
    "print(grid_search.best_score_, grid_search.best_params_)"
   ]
  },
  {
   "cell_type": "markdown",
   "id": "8217c7c6",
   "metadata": {
    "tags": []
   },
   "source": [
    "## Business Questions"
   ]
  },
  {
   "cell_type": "markdown",
   "id": "c5a86ba9",
   "metadata": {},
   "source": [
    "1. Which customers had a high purchase probability but didnt do anything in the next 30 days."
   ]
  },
  {
   "cell_type": "code",
   "execution_count": null,
   "id": "d051ad97",
   "metadata": {},
   "outputs": [],
   "source": [
    "final[(final['is_active'] == 0) & (final['y_pred'] == 1)].sort_values('y_pred', ascending=False)"
   ]
  },
  {
   "cell_type": "markdown",
   "id": "c077cb9b",
   "metadata": {},
   "source": [
    "2. Which customers have recently purchased but are unlikely to buy again"
   ]
  },
  {
   "cell_type": "code",
   "execution_count": null,
   "id": "93db26a3",
   "metadata": {},
   "outputs": [],
   "source": [
    "final[(final['recency'] <= 5) & (final['y_pred'] == 0)].sort_values('y_pred', ascending=False)"
   ]
  },
  {
   "cell_type": "code",
   "execution_count": null,
   "id": "af117ea4",
   "metadata": {},
   "outputs": [],
   "source": []
  },
  {
   "cell_type": "code",
   "execution_count": null,
   "id": "851d9561-eced-4ca1-a7ce-798a6d98ff5e",
   "metadata": {},
   "outputs": [],
   "source": []
  },
  {
   "cell_type": "code",
   "execution_count": null,
   "id": "6abbb8ad-11e2-4347-a25d-33f0eea999d6",
   "metadata": {},
   "outputs": [],
   "source": []
  }
 ],
 "metadata": {
  "kernelspec": {
   "display_name": "Python [conda env:snake]",
   "language": "python",
   "name": "conda-env-snake-py"
  },
  "language_info": {
   "codemirror_mode": {
    "name": "ipython",
    "version": 3
   },
   "file_extension": ".py",
   "mimetype": "text/x-python",
   "name": "python",
   "nbconvert_exporter": "python",
   "pygments_lexer": "ipython3",
   "version": "3.9.13"
  }
 },
 "nbformat": 4,
 "nbformat_minor": 5
}
