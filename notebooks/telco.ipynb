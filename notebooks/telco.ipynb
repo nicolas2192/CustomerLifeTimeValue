{
 "cells": [
  {
   "cell_type": "markdown",
   "id": "d1ff559f-049e-4e28-8f41-e8927624d06d",
   "metadata": {
    "tags": []
   },
   "source": [
    "# Telco Company\n",
    "---\n",
    "Dataset: https://www.kaggle.com/datasets/blastchar/telco-customer-churn\n",
    "\n",
    "Figure out what is the churn rate and customer lifetime value by product."
   ]
  },
  {
   "cell_type": "markdown",
   "id": "21c96a4a-73b2-44cb-a889-b1d8dac243e7",
   "metadata": {
    "tags": []
   },
   "source": [
    "## Loading data and inital exploratory analysis"
   ]
  },
  {
   "cell_type": "code",
   "execution_count": 51,
   "id": "f8440c0f-ebcf-439b-8bfd-0f49e8450795",
   "metadata": {},
   "outputs": [],
   "source": [
    "# Imports\n",
    "import pandas as pd\n",
    "import numpy as np"
   ]
  },
  {
   "cell_type": "code",
   "execution_count": 6,
   "id": "17af087f-d849-42ba-a771-a8be893ee7f8",
   "metadata": {},
   "outputs": [],
   "source": [
    "df = pd.read_csv('data/telco_churn.csv')"
   ]
  },
  {
   "cell_type": "markdown",
   "id": "4cf46fc3-8a56-4d1a-8cb6-8a5ab294f03b",
   "metadata": {},
   "source": [
    "There are 3 types of contract:\n",
    "- Month-to-month\n",
    "- One year\n",
    "- Two year"
   ]
  },
  {
   "cell_type": "code",
   "execution_count": 38,
   "id": "3360c4fe-67ed-4975-a13e-13a3ad15b195",
   "metadata": {},
   "outputs": [
    {
     "data": {
      "text/html": [
       "<div>\n",
       "<style scoped>\n",
       "    .dataframe tbody tr th:only-of-type {\n",
       "        vertical-align: middle;\n",
       "    }\n",
       "\n",
       "    .dataframe tbody tr th {\n",
       "        vertical-align: top;\n",
       "    }\n",
       "\n",
       "    .dataframe thead th {\n",
       "        text-align: right;\n",
       "    }\n",
       "</style>\n",
       "<table border=\"1\" class=\"dataframe\">\n",
       "  <thead>\n",
       "    <tr style=\"text-align: right;\">\n",
       "      <th></th>\n",
       "      <th>customerID</th>\n",
       "      <th>gender</th>\n",
       "      <th>SeniorCitizen</th>\n",
       "      <th>Partner</th>\n",
       "      <th>Dependents</th>\n",
       "      <th>tenure</th>\n",
       "      <th>PhoneService</th>\n",
       "      <th>MultipleLines</th>\n",
       "      <th>InternetService</th>\n",
       "      <th>OnlineSecurity</th>\n",
       "      <th>...</th>\n",
       "      <th>TechSupport</th>\n",
       "      <th>StreamingTV</th>\n",
       "      <th>StreamingMovies</th>\n",
       "      <th>Contract</th>\n",
       "      <th>PaperlessBilling</th>\n",
       "      <th>PaymentMethod</th>\n",
       "      <th>MonthlyCharges</th>\n",
       "      <th>TotalCharges</th>\n",
       "      <th>Churn</th>\n",
       "      <th>Churn_num</th>\n",
       "    </tr>\n",
       "  </thead>\n",
       "  <tbody>\n",
       "    <tr>\n",
       "      <th>0</th>\n",
       "      <td>7590-VHVEG</td>\n",
       "      <td>Female</td>\n",
       "      <td>0</td>\n",
       "      <td>Yes</td>\n",
       "      <td>No</td>\n",
       "      <td>1</td>\n",
       "      <td>No</td>\n",
       "      <td>No phone service</td>\n",
       "      <td>DSL</td>\n",
       "      <td>No</td>\n",
       "      <td>...</td>\n",
       "      <td>No</td>\n",
       "      <td>No</td>\n",
       "      <td>No</td>\n",
       "      <td>Month-to-month</td>\n",
       "      <td>Yes</td>\n",
       "      <td>Electronic check</td>\n",
       "      <td>29.85</td>\n",
       "      <td>29.85</td>\n",
       "      <td>No</td>\n",
       "      <td>0</td>\n",
       "    </tr>\n",
       "    <tr>\n",
       "      <th>1</th>\n",
       "      <td>5575-GNVDE</td>\n",
       "      <td>Male</td>\n",
       "      <td>0</td>\n",
       "      <td>No</td>\n",
       "      <td>No</td>\n",
       "      <td>34</td>\n",
       "      <td>Yes</td>\n",
       "      <td>No</td>\n",
       "      <td>DSL</td>\n",
       "      <td>Yes</td>\n",
       "      <td>...</td>\n",
       "      <td>No</td>\n",
       "      <td>No</td>\n",
       "      <td>No</td>\n",
       "      <td>One year</td>\n",
       "      <td>No</td>\n",
       "      <td>Mailed check</td>\n",
       "      <td>56.95</td>\n",
       "      <td>1889.5</td>\n",
       "      <td>No</td>\n",
       "      <td>0</td>\n",
       "    </tr>\n",
       "    <tr>\n",
       "      <th>2</th>\n",
       "      <td>3668-QPYBK</td>\n",
       "      <td>Male</td>\n",
       "      <td>0</td>\n",
       "      <td>No</td>\n",
       "      <td>No</td>\n",
       "      <td>2</td>\n",
       "      <td>Yes</td>\n",
       "      <td>No</td>\n",
       "      <td>DSL</td>\n",
       "      <td>Yes</td>\n",
       "      <td>...</td>\n",
       "      <td>No</td>\n",
       "      <td>No</td>\n",
       "      <td>No</td>\n",
       "      <td>Month-to-month</td>\n",
       "      <td>Yes</td>\n",
       "      <td>Mailed check</td>\n",
       "      <td>53.85</td>\n",
       "      <td>108.15</td>\n",
       "      <td>Yes</td>\n",
       "      <td>1</td>\n",
       "    </tr>\n",
       "  </tbody>\n",
       "</table>\n",
       "<p>3 rows × 22 columns</p>\n",
       "</div>"
      ],
      "text/plain": [
       "   customerID  gender  SeniorCitizen Partner Dependents  tenure PhoneService  \\\n",
       "0  7590-VHVEG  Female              0     Yes         No       1           No   \n",
       "1  5575-GNVDE    Male              0      No         No      34          Yes   \n",
       "2  3668-QPYBK    Male              0      No         No       2          Yes   \n",
       "\n",
       "      MultipleLines InternetService OnlineSecurity  ... TechSupport  \\\n",
       "0  No phone service             DSL             No  ...          No   \n",
       "1                No             DSL            Yes  ...          No   \n",
       "2                No             DSL            Yes  ...          No   \n",
       "\n",
       "  StreamingTV StreamingMovies        Contract PaperlessBilling  \\\n",
       "0          No              No  Month-to-month              Yes   \n",
       "1          No              No        One year               No   \n",
       "2          No              No  Month-to-month              Yes   \n",
       "\n",
       "      PaymentMethod MonthlyCharges TotalCharges  Churn Churn_num  \n",
       "0  Electronic check          29.85        29.85     No         0  \n",
       "1      Mailed check          56.95       1889.5     No         0  \n",
       "2      Mailed check          53.85       108.15    Yes         1  \n",
       "\n",
       "[3 rows x 22 columns]"
      ]
     },
     "execution_count": 38,
     "metadata": {},
     "output_type": "execute_result"
    }
   ],
   "source": [
    "df.head(3)"
   ]
  },
  {
   "cell_type": "markdown",
   "id": "2eb25a55-9c83-4a22-8cf5-fa41f1ec3989",
   "metadata": {},
   "source": [
    "## Churn analysis"
   ]
  },
  {
   "cell_type": "code",
   "execution_count": 49,
   "id": "bb8fb109-0056-4ec2-930f-1bffe5b1cd3e",
   "metadata": {},
   "outputs": [],
   "source": [
    "df['Churn_num'] = df['Churn'].apply(lambda x: 1 if x == 'Yes' else 0)"
   ]
  },
  {
   "cell_type": "code",
   "execution_count": 52,
   "id": "778f8179-ad71-41ca-b813-b797101679f9",
   "metadata": {},
   "outputs": [],
   "source": [
    "# Churn ratio: Number of churned users / Number of total unique users\n",
    "def my_func(x):\n",
    "    return np.sum(x) / len(x)"
   ]
  },
  {
   "cell_type": "code",
   "execution_count": 56,
   "id": "302fce34-1647-4e03-90c2-ab7895526e6f",
   "metadata": {},
   "outputs": [
    {
     "data": {
      "text/html": [
       "<div>\n",
       "<style scoped>\n",
       "    .dataframe tbody tr th:only-of-type {\n",
       "        vertical-align: middle;\n",
       "    }\n",
       "\n",
       "    .dataframe tbody tr th {\n",
       "        vertical-align: top;\n",
       "    }\n",
       "\n",
       "    .dataframe thead th {\n",
       "        text-align: right;\n",
       "    }\n",
       "</style>\n",
       "<table border=\"1\" class=\"dataframe\">\n",
       "  <thead>\n",
       "    <tr style=\"text-align: right;\">\n",
       "      <th></th>\n",
       "      <th>customerID</th>\n",
       "      <th>MonthlyCharges</th>\n",
       "      <th>Churn_num</th>\n",
       "    </tr>\n",
       "    <tr>\n",
       "      <th>Contract</th>\n",
       "      <th></th>\n",
       "      <th></th>\n",
       "      <th></th>\n",
       "    </tr>\n",
       "  </thead>\n",
       "  <tbody>\n",
       "    <tr>\n",
       "      <th>Month-to-month</th>\n",
       "      <td>3875</td>\n",
       "      <td>66.398490</td>\n",
       "      <td>0.427097</td>\n",
       "    </tr>\n",
       "    <tr>\n",
       "      <th>One year</th>\n",
       "      <td>1473</td>\n",
       "      <td>65.048608</td>\n",
       "      <td>0.112695</td>\n",
       "    </tr>\n",
       "    <tr>\n",
       "      <th>Two year</th>\n",
       "      <td>1695</td>\n",
       "      <td>60.770413</td>\n",
       "      <td>0.028319</td>\n",
       "    </tr>\n",
       "  </tbody>\n",
       "</table>\n",
       "</div>"
      ],
      "text/plain": [
       "                customerID  MonthlyCharges  Churn_num\n",
       "Contract                                             \n",
       "Month-to-month        3875       66.398490   0.427097\n",
       "One year              1473       65.048608   0.112695\n",
       "Two year              1695       60.770413   0.028319"
      ]
     },
     "execution_count": 56,
     "metadata": {},
     "output_type": "execute_result"
    }
   ],
   "source": [
    "df.groupby('Contract').agg({'customerID': 'count', 'MonthlyCharges': np.average, 'Churn_num': my_func})"
   ]
  },
  {
   "cell_type": "markdown",
   "id": "92f5f10b-ff9d-4c1a-ab06-499c2802a094",
   "metadata": {},
   "source": [
    "Although the Monthly Charges average is similar to all 3 contract types, Month-to-month contracts have a much higher churn ratio (42,7%) when compared to the other 2 contracts (11,2% and 2,8%)."
   ]
  },
  {
   "cell_type": "markdown",
   "id": "5cd1ea80-91cf-47b4-a3dc-e2a993b33e3c",
   "metadata": {},
   "source": [
    "## Customer Lifetime Value\n",
    "\n",
    "LTV = (Number of Months * Avg Order Value * Gross Margin * Avg Lifetime) / Number of Customers"
   ]
  },
  {
   "cell_type": "code",
   "execution_count": 58,
   "id": "0298d093-847f-4035-88ad-ead49a7ce010",
   "metadata": {},
   "outputs": [],
   "source": [
    "gr = df.groupby('Contract').agg({'tenure': np.sum, 'customerID': 'count', \n",
    "                                 'MonthlyCharges': np.average, 'Churn_num': my_func})"
   ]
  },
  {
   "cell_type": "code",
   "execution_count": 60,
   "id": "bda7365b-2c3a-44c3-bace-4ed76d55b3c5",
   "metadata": {},
   "outputs": [],
   "source": [
    "gr['avg_lifetime'] = 1 / gr['Churn_num']"
   ]
  },
  {
   "cell_type": "code",
   "execution_count": 62,
   "id": "2417cf2d-0d75-434d-a242-0ff18b7a8abb",
   "metadata": {},
   "outputs": [],
   "source": [
    "gr.columns = ['txns_count', 'customer_count', 'avg_month_charges', 'churn_pctg', 'avg_lifetime']"
   ]
  },
  {
   "cell_type": "code",
   "execution_count": 66,
   "id": "d8ba85bb-5819-4377-b474-2586d47abe07",
   "metadata": {},
   "outputs": [
    {
     "data": {
      "text/html": [
       "<div>\n",
       "<style scoped>\n",
       "    .dataframe tbody tr th:only-of-type {\n",
       "        vertical-align: middle;\n",
       "    }\n",
       "\n",
       "    .dataframe tbody tr th {\n",
       "        vertical-align: top;\n",
       "    }\n",
       "\n",
       "    .dataframe thead th {\n",
       "        text-align: right;\n",
       "    }\n",
       "</style>\n",
       "<table border=\"1\" class=\"dataframe\">\n",
       "  <thead>\n",
       "    <tr style=\"text-align: right;\">\n",
       "      <th></th>\n",
       "      <th>txns_count</th>\n",
       "      <th>customer_count</th>\n",
       "      <th>avg_month_charges</th>\n",
       "      <th>churn_pctg</th>\n",
       "      <th>avg_lifetime</th>\n",
       "      <th>ltv</th>\n",
       "    </tr>\n",
       "    <tr>\n",
       "      <th>Contract</th>\n",
       "      <th></th>\n",
       "      <th></th>\n",
       "      <th></th>\n",
       "      <th></th>\n",
       "      <th></th>\n",
       "      <th></th>\n",
       "    </tr>\n",
       "  </thead>\n",
       "  <tbody>\n",
       "    <tr>\n",
       "      <th>Month-to-month</th>\n",
       "      <td>69892</td>\n",
       "      <td>3875</td>\n",
       "      <td>66.398490</td>\n",
       "      <td>0.427097</td>\n",
       "      <td>2.341390</td>\n",
       "      <td>1682.437445</td>\n",
       "    </tr>\n",
       "    <tr>\n",
       "      <th>One year</th>\n",
       "      <td>61932</td>\n",
       "      <td>1473</td>\n",
       "      <td>65.048608</td>\n",
       "      <td>0.112695</td>\n",
       "      <td>8.873494</td>\n",
       "      <td>14561.170150</td>\n",
       "    </tr>\n",
       "    <tr>\n",
       "      <th>Two year</th>\n",
       "      <td>96166</td>\n",
       "      <td>1695</td>\n",
       "      <td>60.770413</td>\n",
       "      <td>0.028319</td>\n",
       "      <td>35.312500</td>\n",
       "      <td>73050.594182</td>\n",
       "    </tr>\n",
       "  </tbody>\n",
       "</table>\n",
       "</div>"
      ],
      "text/plain": [
       "                txns_count  customer_count  avg_month_charges  churn_pctg  \\\n",
       "Contract                                                                    \n",
       "Month-to-month       69892            3875          66.398490    0.427097   \n",
       "One year             61932            1473          65.048608    0.112695   \n",
       "Two year             96166            1695          60.770413    0.028319   \n",
       "\n",
       "                avg_lifetime           ltv  \n",
       "Contract                                    \n",
       "Month-to-month      2.341390   1682.437445  \n",
       "One year            8.873494  14561.170150  \n",
       "Two year           35.312500  73050.594182  "
      ]
     },
     "execution_count": 66,
     "metadata": {},
     "output_type": "execute_result"
    }
   ],
   "source": [
    "gross_margin = 0.60 # assumption. we estimate our profit will be 60% of our revenue.\n",
    "gr['ltv'] = (gr['txns_count'] * gr['avg_month_charges'] * gross_margin * gr['avg_lifetime']) / gr['customer_count']\n",
    "gr"
   ]
  },
  {
   "cell_type": "markdown",
   "id": "482f859e-1585-4c0a-8f8c-9d4286a184c5",
   "metadata": {},
   "source": [
    "Our customers life time value by product would be:\n",
    "- Monthly: 1.682 USD\n",
    "- One year: 14.561 USD\n",
    "- Two year: 73.050 USD"
   ]
  },
  {
   "cell_type": "code",
   "execution_count": null,
   "id": "a47afa80-0453-4838-bcc3-c662a971e392",
   "metadata": {},
   "outputs": [],
   "source": []
  },
  {
   "cell_type": "code",
   "execution_count": null,
   "id": "d02d5e5b-98ff-4b0d-a066-68782096c51e",
   "metadata": {},
   "outputs": [],
   "source": []
  },
  {
   "cell_type": "code",
   "execution_count": null,
   "id": "5124786e-fe4b-4e04-89cb-43bc12bbb0db",
   "metadata": {},
   "outputs": [],
   "source": []
  },
  {
   "cell_type": "code",
   "execution_count": null,
   "id": "f80245c8-944c-43e9-9eff-219ad82e7cea",
   "metadata": {},
   "outputs": [],
   "source": []
  },
  {
   "cell_type": "code",
   "execution_count": null,
   "id": "578a4ce1-4473-45c6-b9ca-50351fee1319",
   "metadata": {},
   "outputs": [],
   "source": []
  },
  {
   "cell_type": "code",
   "execution_count": null,
   "id": "481656ec-e780-449c-aa76-eaecca20e324",
   "metadata": {},
   "outputs": [],
   "source": []
  }
 ],
 "metadata": {
  "kernelspec": {
   "display_name": "Python [conda env:snake]",
   "language": "python",
   "name": "conda-env-snake-py"
  },
  "language_info": {
   "codemirror_mode": {
    "name": "ipython",
    "version": 3
   },
   "file_extension": ".py",
   "mimetype": "text/x-python",
   "name": "python",
   "nbconvert_exporter": "python",
   "pygments_lexer": "ipython3",
   "version": "3.9.13"
  }
 },
 "nbformat": 4,
 "nbformat_minor": 5
}
